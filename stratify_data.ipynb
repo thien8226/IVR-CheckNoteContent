{
  "cells": [
    {
      "cell_type": "code",
      "execution_count": null,
      "metadata": {
        "id": "o4JM0Fx5FhuD"
      },
      "outputs": [],
      "source": [
        "import os\n",
        "import pandas as pd\n",
        "import numpy as np\n",
        "import random\n",
        "import tqdm\n",
        "import math\n",
        "from sklearn.cluster import KMeans\n",
        "import gc\n",
        "import matplotlib.pyplot as plt"
      ]
    },
    {
      "cell_type": "code",
      "execution_count": null,
      "metadata": {
        "colab": {
          "base_uri": "https://localhost:8080/"
        },
        "id": "F7Xds5Z6E-v2",
        "outputId": "57afd8c6-9214-4e89-a7f9-e240a677c1ed"
      },
      "outputs": [
        {
          "name": "stderr",
          "output_type": "stream",
          "text": [
            "100%|██████████| 6/6 [02:36<00:00, 26.05s/it]\n"
          ]
        }
      ],
      "source": [
        "dfs = []\n",
        "\n",
        "features = ['id', 'tell_call', 'total_time_remain', 'state', 'note_content', 'record_audio']\n",
        "\n",
        "folder = '/home2/ivr-mappingcode/data/csv'\n",
        "for fn in tqdm.tqdm(os.listdir(folder)):\n",
        "    ffn = os.path.join(folder, fn)\n",
        "    if features != 'all':\n",
        "        dfs.append(pd.read_csv(ffn)[features])\n",
        "    else:\n",
        "        dfs.append(pd.read_csv(ffn))\n",
        "\n",
        "df = pd.concat(dfs)"
      ]
    },
    {
      "cell_type": "code",
      "execution_count": null,
      "metadata": {
        "colab": {
          "base_uri": "https://localhost:8080/"
        },
        "id": "yXv0sptKFdQ9",
        "outputId": "e1c5ac8f-7a5f-47ec-9067-69e3ce5c4ce6"
      },
      "outputs": [
        {
          "data": {
            "text/plain": [
              "0"
            ]
          },
          "execution_count": 4,
          "metadata": {},
          "output_type": "execute_result"
        }
      ],
      "source": [
        "del dfs\n",
        "gc.collect()"
      ]
    },
    {
      "cell_type": "code",
      "execution_count": null,
      "metadata": {
        "colab": {
          "base_uri": "https://localhost:8080/",
          "height": 423
        },
        "id": "oL_LvcygGfzr",
        "outputId": "07766e4c-d0ea-424b-96dc-1792886b98ea"
      },
      "outputs": [
        {
          "data": {
            "text/html": [
              "\n",
              "  <div id=\"df-b89f3e73-402c-4cf6-994c-c054602c9ce0\">\n",
              "    <div class=\"colab-df-container\">\n",
              "      <div>\n",
              "<style scoped>\n",
              "    .dataframe tbody tr th:only-of-type {\n",
              "        vertical-align: middle;\n",
              "    }\n",
              "\n",
              "    .dataframe tbody tr th {\n",
              "        vertical-align: top;\n",
              "    }\n",
              "\n",
              "    .dataframe thead th {\n",
              "        text-align: right;\n",
              "    }\n",
              "</style>\n",
              "<table border=\"1\" class=\"dataframe\">\n",
              "  <thead>\n",
              "    <tr style=\"text-align: right;\">\n",
              "      <th></th>\n",
              "      <th>id</th>\n",
              "      <th>tell_call</th>\n",
              "      <th>total_time_remain</th>\n",
              "      <th>state</th>\n",
              "      <th>note_content</th>\n",
              "      <th>record_audio</th>\n",
              "    </tr>\n",
              "  </thead>\n",
              "  <tbody>\n",
              "    <tr>\n",
              "      <th>0</th>\n",
              "      <td>56291038</td>\n",
              "      <td>viettel</td>\n",
              "      <td>0</td>\n",
              "      <td>50</td>\n",
              "      <td>NO_USER_RESPONSE</td>\n",
              "      <td>https://feaicc.com/zone3/records/2022/07/27/Vb...</td>\n",
              "    </tr>\n",
              "    <tr>\n",
              "      <th>1</th>\n",
              "      <td>56291039</td>\n",
              "      <td>viettel</td>\n",
              "      <td>0</td>\n",
              "      <td>50</td>\n",
              "      <td>NO_USER_RESPONSE</td>\n",
              "      <td>https://feaicc.com/zone3/records/2022/07/27/Vb...</td>\n",
              "    </tr>\n",
              "    <tr>\n",
              "      <th>2</th>\n",
              "      <td>56291040</td>\n",
              "      <td>viettel</td>\n",
              "      <td>0</td>\n",
              "      <td>50</td>\n",
              "      <td>NO_USER_RESPONSE</td>\n",
              "      <td>https://feaicc.com/zone3/records/2022/07/27/Vb...</td>\n",
              "    </tr>\n",
              "    <tr>\n",
              "      <th>3</th>\n",
              "      <td>56291041</td>\n",
              "      <td>viettel</td>\n",
              "      <td>0</td>\n",
              "      <td>50</td>\n",
              "      <td>NO_USER_RESPONSE</td>\n",
              "      <td>https://feaicc.com/zone3/records/2022/07/27/Vb...</td>\n",
              "    </tr>\n",
              "    <tr>\n",
              "      <th>4</th>\n",
              "      <td>56291042</td>\n",
              "      <td>viettel</td>\n",
              "      <td>0</td>\n",
              "      <td>50</td>\n",
              "      <td>NO_USER_RESPONSE</td>\n",
              "      <td>https://feaicc.com/zone3/records/2022/07/27/Vb...</td>\n",
              "    </tr>\n",
              "    <tr>\n",
              "      <th>...</th>\n",
              "      <td>...</td>\n",
              "      <td>...</td>\n",
              "      <td>...</td>\n",
              "      <td>...</td>\n",
              "      <td>...</td>\n",
              "      <td>...</td>\n",
              "    </tr>\n",
              "    <tr>\n",
              "      <th>15024850</th>\n",
              "      <td>78868607</td>\n",
              "      <td>viettel</td>\n",
              "      <td>105</td>\n",
              "      <td>50</td>\n",
              "      <td>VOICEMAIL_DETECTION</td>\n",
              "      <td>https://feaicc.com/zone3/records/2022/10/31/Vb...</td>\n",
              "    </tr>\n",
              "    <tr>\n",
              "      <th>15024851</th>\n",
              "      <td>78868608</td>\n",
              "      <td>viettel</td>\n",
              "      <td>17</td>\n",
              "      <td>50</td>\n",
              "      <td>USER_BUSY</td>\n",
              "      <td>https://feaicc.com/zone3/records/2022/10/31/Vb...</td>\n",
              "    </tr>\n",
              "    <tr>\n",
              "      <th>15024852</th>\n",
              "      <td>78868609</td>\n",
              "      <td>viettel</td>\n",
              "      <td>28</td>\n",
              "      <td>40</td>\n",
              "      <td>NORMAL_CLEARING</td>\n",
              "      <td>https://feaicc.com/zone3/records/2022/10/31/Vb...</td>\n",
              "    </tr>\n",
              "    <tr>\n",
              "      <th>15024853</th>\n",
              "      <td>78868610</td>\n",
              "      <td>viettel</td>\n",
              "      <td>24</td>\n",
              "      <td>50</td>\n",
              "      <td>USER_BUSY</td>\n",
              "      <td>https://feaicc.com/zone3/records/2022/10/31/Vb...</td>\n",
              "    </tr>\n",
              "    <tr>\n",
              "      <th>15024854</th>\n",
              "      <td>78868611</td>\n",
              "      <td>viettel</td>\n",
              "      <td>43</td>\n",
              "      <td>40</td>\n",
              "      <td>NORMAL_CLEARING</td>\n",
              "      <td>https://feaicc.com/zone3/records/2022/10/31/Vb...</td>\n",
              "    </tr>\n",
              "  </tbody>\n",
              "</table>\n",
              "<p>27355548 rows × 6 columns</p>\n",
              "</div>\n",
              "      <button class=\"colab-df-convert\" onclick=\"convertToInteractive('df-b89f3e73-402c-4cf6-994c-c054602c9ce0')\"\n",
              "              title=\"Convert this dataframe to an interactive table.\"\n",
              "              style=\"display:none;\">\n",
              "        \n",
              "  <svg xmlns=\"http://www.w3.org/2000/svg\" height=\"24px\"viewBox=\"0 0 24 24\"\n",
              "       width=\"24px\">\n",
              "    <path d=\"M0 0h24v24H0V0z\" fill=\"none\"/>\n",
              "    <path d=\"M18.56 5.44l.94 2.06.94-2.06 2.06-.94-2.06-.94-.94-2.06-.94 2.06-2.06.94zm-11 1L8.5 8.5l.94-2.06 2.06-.94-2.06-.94L8.5 2.5l-.94 2.06-2.06.94zm10 10l.94 2.06.94-2.06 2.06-.94-2.06-.94-.94-2.06-.94 2.06-2.06.94z\"/><path d=\"M17.41 7.96l-1.37-1.37c-.4-.4-.92-.59-1.43-.59-.52 0-1.04.2-1.43.59L10.3 9.45l-7.72 7.72c-.78.78-.78 2.05 0 2.83L4 21.41c.39.39.9.59 1.41.59.51 0 1.02-.2 1.41-.59l7.78-7.78 2.81-2.81c.8-.78.8-2.07 0-2.86zM5.41 20L4 18.59l7.72-7.72 1.47 1.35L5.41 20z\"/>\n",
              "  </svg>\n",
              "      </button>\n",
              "      \n",
              "  <style>\n",
              "    .colab-df-container {\n",
              "      display:flex;\n",
              "      flex-wrap:wrap;\n",
              "      gap: 12px;\n",
              "    }\n",
              "\n",
              "    .colab-df-convert {\n",
              "      background-color: #E8F0FE;\n",
              "      border: none;\n",
              "      border-radius: 50%;\n",
              "      cursor: pointer;\n",
              "      display: none;\n",
              "      fill: #1967D2;\n",
              "      height: 32px;\n",
              "      padding: 0 0 0 0;\n",
              "      width: 32px;\n",
              "    }\n",
              "\n",
              "    .colab-df-convert:hover {\n",
              "      background-color: #E2EBFA;\n",
              "      box-shadow: 0px 1px 2px rgba(60, 64, 67, 0.3), 0px 1px 3px 1px rgba(60, 64, 67, 0.15);\n",
              "      fill: #174EA6;\n",
              "    }\n",
              "\n",
              "    [theme=dark] .colab-df-convert {\n",
              "      background-color: #3B4455;\n",
              "      fill: #D2E3FC;\n",
              "    }\n",
              "\n",
              "    [theme=dark] .colab-df-convert:hover {\n",
              "      background-color: #434B5C;\n",
              "      box-shadow: 0px 1px 3px 1px rgba(0, 0, 0, 0.15);\n",
              "      filter: drop-shadow(0px 1px 2px rgba(0, 0, 0, 0.3));\n",
              "      fill: #FFFFFF;\n",
              "    }\n",
              "  </style>\n",
              "\n",
              "      <script>\n",
              "        const buttonEl =\n",
              "          document.querySelector('#df-b89f3e73-402c-4cf6-994c-c054602c9ce0 button.colab-df-convert');\n",
              "        buttonEl.style.display =\n",
              "          google.colab.kernel.accessAllowed ? 'block' : 'none';\n",
              "\n",
              "        async function convertToInteractive(key) {\n",
              "          const element = document.querySelector('#df-b89f3e73-402c-4cf6-994c-c054602c9ce0');\n",
              "          const dataTable =\n",
              "            await google.colab.kernel.invokeFunction('convertToInteractive',\n",
              "                                                     [key], {});\n",
              "          if (!dataTable) return;\n",
              "\n",
              "          const docLinkHtml = 'Like what you see? Visit the ' +\n",
              "            '<a target=\"_blank\" href=https://colab.research.google.com/notebooks/data_table.ipynb>data table notebook</a>'\n",
              "            + ' to learn more about interactive tables.';\n",
              "          element.innerHTML = '';\n",
              "          dataTable['output_type'] = 'display_data';\n",
              "          await google.colab.output.renderOutput(dataTable, element);\n",
              "          const docLink = document.createElement('div');\n",
              "          docLink.innerHTML = docLinkHtml;\n",
              "          element.appendChild(docLink);\n",
              "        }\n",
              "      </script>\n",
              "    </div>\n",
              "  </div>\n",
              "  "
            ],
            "text/plain": [
              "                id tell_call  total_time_remain  state         note_content  \\\n",
              "0         56291038   viettel                  0     50     NO_USER_RESPONSE   \n",
              "1         56291039   viettel                  0     50     NO_USER_RESPONSE   \n",
              "2         56291040   viettel                  0     50     NO_USER_RESPONSE   \n",
              "3         56291041   viettel                  0     50     NO_USER_RESPONSE   \n",
              "4         56291042   viettel                  0     50     NO_USER_RESPONSE   \n",
              "...            ...       ...                ...    ...                  ...   \n",
              "15024850  78868607   viettel                105     50  VOICEMAIL_DETECTION   \n",
              "15024851  78868608   viettel                 17     50            USER_BUSY   \n",
              "15024852  78868609   viettel                 28     40      NORMAL_CLEARING   \n",
              "15024853  78868610   viettel                 24     50            USER_BUSY   \n",
              "15024854  78868611   viettel                 43     40      NORMAL_CLEARING   \n",
              "\n",
              "                                               record_audio  \n",
              "0         https://feaicc.com/zone3/records/2022/07/27/Vb...  \n",
              "1         https://feaicc.com/zone3/records/2022/07/27/Vb...  \n",
              "2         https://feaicc.com/zone3/records/2022/07/27/Vb...  \n",
              "3         https://feaicc.com/zone3/records/2022/07/27/Vb...  \n",
              "4         https://feaicc.com/zone3/records/2022/07/27/Vb...  \n",
              "...                                                     ...  \n",
              "15024850  https://feaicc.com/zone3/records/2022/10/31/Vb...  \n",
              "15024851  https://feaicc.com/zone3/records/2022/10/31/Vb...  \n",
              "15024852  https://feaicc.com/zone3/records/2022/10/31/Vb...  \n",
              "15024853  https://feaicc.com/zone3/records/2022/10/31/Vb...  \n",
              "15024854  https://feaicc.com/zone3/records/2022/10/31/Vb...  \n",
              "\n",
              "[27355548 rows x 6 columns]"
            ]
          },
          "execution_count": 5,
          "metadata": {},
          "output_type": "execute_result"
        }
      ],
      "source": [
        "df"
      ]
    },
    {
      "cell_type": "code",
      "execution_count": null,
      "metadata": {
        "colab": {
          "base_uri": "https://localhost:8080/"
        },
        "id": "loZGJPSPGail",
        "outputId": "80209171-3a99-4f03-d7d9-dfea0386ae66"
      },
      "outputs": [
        {
          "name": "stdout",
          "output_type": "stream",
          "text": [
            "25211865\n"
          ]
        }
      ],
      "source": [
        "df.drop_duplicates('record_audio', inplace=True)\n",
        "print(len(df))"
      ]
    },
    {
      "cell_type": "code",
      "execution_count": null,
      "metadata": {
        "colab": {
          "base_uri": "https://localhost:8080/"
        },
        "id": "253H2MtZGm1t",
        "outputId": "6d83dfa0-d3fa-45c1-f8b8-333f58ef67e7"
      },
      "outputs": [
        {
          "name": "stdout",
          "output_type": "stream",
          "text": [
            "25211864\n"
          ]
        }
      ],
      "source": [
        "df.dropna(inplace=True)\n",
        "print(len(df))"
      ]
    },
    {
      "cell_type": "code",
      "execution_count": null,
      "metadata": {
        "id": "x-sb3tAaGySG"
      },
      "outputs": [],
      "source": [
        "df.drop('record_audio', axis=1, inplace=True)"
      ]
    },
    {
      "cell_type": "code",
      "execution_count": null,
      "metadata": {
        "colab": {
          "base_uri": "https://localhost:8080/",
          "height": 423
        },
        "id": "iNSDer7mHJHm",
        "outputId": "88eab837-bd90-46d2-a860-cd1b79d49d7c"
      },
      "outputs": [
        {
          "data": {
            "text/html": [
              "\n",
              "  <div id=\"df-158ee394-32ec-40b5-b9e2-9d69e7418add\">\n",
              "    <div class=\"colab-df-container\">\n",
              "      <div>\n",
              "<style scoped>\n",
              "    .dataframe tbody tr th:only-of-type {\n",
              "        vertical-align: middle;\n",
              "    }\n",
              "\n",
              "    .dataframe tbody tr th {\n",
              "        vertical-align: top;\n",
              "    }\n",
              "\n",
              "    .dataframe thead th {\n",
              "        text-align: right;\n",
              "    }\n",
              "</style>\n",
              "<table border=\"1\" class=\"dataframe\">\n",
              "  <thead>\n",
              "    <tr style=\"text-align: right;\">\n",
              "      <th></th>\n",
              "      <th>id</th>\n",
              "      <th>tell_call</th>\n",
              "      <th>total_time_remain</th>\n",
              "      <th>state</th>\n",
              "      <th>note_content</th>\n",
              "    </tr>\n",
              "  </thead>\n",
              "  <tbody>\n",
              "    <tr>\n",
              "      <th>0</th>\n",
              "      <td>56291038</td>\n",
              "      <td>viettel</td>\n",
              "      <td>0</td>\n",
              "      <td>50</td>\n",
              "      <td>NO_USER_RESPONSE</td>\n",
              "    </tr>\n",
              "    <tr>\n",
              "      <th>1</th>\n",
              "      <td>56291039</td>\n",
              "      <td>viettel</td>\n",
              "      <td>0</td>\n",
              "      <td>50</td>\n",
              "      <td>NO_USER_RESPONSE</td>\n",
              "    </tr>\n",
              "    <tr>\n",
              "      <th>2</th>\n",
              "      <td>56291040</td>\n",
              "      <td>viettel</td>\n",
              "      <td>0</td>\n",
              "      <td>50</td>\n",
              "      <td>NO_USER_RESPONSE</td>\n",
              "    </tr>\n",
              "    <tr>\n",
              "      <th>3</th>\n",
              "      <td>56291041</td>\n",
              "      <td>viettel</td>\n",
              "      <td>0</td>\n",
              "      <td>50</td>\n",
              "      <td>NO_USER_RESPONSE</td>\n",
              "    </tr>\n",
              "    <tr>\n",
              "      <th>4</th>\n",
              "      <td>56291042</td>\n",
              "      <td>viettel</td>\n",
              "      <td>0</td>\n",
              "      <td>50</td>\n",
              "      <td>NO_USER_RESPONSE</td>\n",
              "    </tr>\n",
              "    <tr>\n",
              "      <th>...</th>\n",
              "      <td>...</td>\n",
              "      <td>...</td>\n",
              "      <td>...</td>\n",
              "      <td>...</td>\n",
              "      <td>...</td>\n",
              "    </tr>\n",
              "    <tr>\n",
              "      <th>15024850</th>\n",
              "      <td>78868607</td>\n",
              "      <td>viettel</td>\n",
              "      <td>105</td>\n",
              "      <td>50</td>\n",
              "      <td>VOICEMAIL_DETECTION</td>\n",
              "    </tr>\n",
              "    <tr>\n",
              "      <th>15024851</th>\n",
              "      <td>78868608</td>\n",
              "      <td>viettel</td>\n",
              "      <td>17</td>\n",
              "      <td>50</td>\n",
              "      <td>USER_BUSY</td>\n",
              "    </tr>\n",
              "    <tr>\n",
              "      <th>15024852</th>\n",
              "      <td>78868609</td>\n",
              "      <td>viettel</td>\n",
              "      <td>28</td>\n",
              "      <td>40</td>\n",
              "      <td>NORMAL_CLEARING</td>\n",
              "    </tr>\n",
              "    <tr>\n",
              "      <th>15024853</th>\n",
              "      <td>78868610</td>\n",
              "      <td>viettel</td>\n",
              "      <td>24</td>\n",
              "      <td>50</td>\n",
              "      <td>USER_BUSY</td>\n",
              "    </tr>\n",
              "    <tr>\n",
              "      <th>15024854</th>\n",
              "      <td>78868611</td>\n",
              "      <td>viettel</td>\n",
              "      <td>43</td>\n",
              "      <td>40</td>\n",
              "      <td>NORMAL_CLEARING</td>\n",
              "    </tr>\n",
              "  </tbody>\n",
              "</table>\n",
              "<p>25211864 rows × 5 columns</p>\n",
              "</div>\n",
              "      <button class=\"colab-df-convert\" onclick=\"convertToInteractive('df-158ee394-32ec-40b5-b9e2-9d69e7418add')\"\n",
              "              title=\"Convert this dataframe to an interactive table.\"\n",
              "              style=\"display:none;\">\n",
              "        \n",
              "  <svg xmlns=\"http://www.w3.org/2000/svg\" height=\"24px\"viewBox=\"0 0 24 24\"\n",
              "       width=\"24px\">\n",
              "    <path d=\"M0 0h24v24H0V0z\" fill=\"none\"/>\n",
              "    <path d=\"M18.56 5.44l.94 2.06.94-2.06 2.06-.94-2.06-.94-.94-2.06-.94 2.06-2.06.94zm-11 1L8.5 8.5l.94-2.06 2.06-.94-2.06-.94L8.5 2.5l-.94 2.06-2.06.94zm10 10l.94 2.06.94-2.06 2.06-.94-2.06-.94-.94-2.06-.94 2.06-2.06.94z\"/><path d=\"M17.41 7.96l-1.37-1.37c-.4-.4-.92-.59-1.43-.59-.52 0-1.04.2-1.43.59L10.3 9.45l-7.72 7.72c-.78.78-.78 2.05 0 2.83L4 21.41c.39.39.9.59 1.41.59.51 0 1.02-.2 1.41-.59l7.78-7.78 2.81-2.81c.8-.78.8-2.07 0-2.86zM5.41 20L4 18.59l7.72-7.72 1.47 1.35L5.41 20z\"/>\n",
              "  </svg>\n",
              "      </button>\n",
              "      \n",
              "  <style>\n",
              "    .colab-df-container {\n",
              "      display:flex;\n",
              "      flex-wrap:wrap;\n",
              "      gap: 12px;\n",
              "    }\n",
              "\n",
              "    .colab-df-convert {\n",
              "      background-color: #E8F0FE;\n",
              "      border: none;\n",
              "      border-radius: 50%;\n",
              "      cursor: pointer;\n",
              "      display: none;\n",
              "      fill: #1967D2;\n",
              "      height: 32px;\n",
              "      padding: 0 0 0 0;\n",
              "      width: 32px;\n",
              "    }\n",
              "\n",
              "    .colab-df-convert:hover {\n",
              "      background-color: #E2EBFA;\n",
              "      box-shadow: 0px 1px 2px rgba(60, 64, 67, 0.3), 0px 1px 3px 1px rgba(60, 64, 67, 0.15);\n",
              "      fill: #174EA6;\n",
              "    }\n",
              "\n",
              "    [theme=dark] .colab-df-convert {\n",
              "      background-color: #3B4455;\n",
              "      fill: #D2E3FC;\n",
              "    }\n",
              "\n",
              "    [theme=dark] .colab-df-convert:hover {\n",
              "      background-color: #434B5C;\n",
              "      box-shadow: 0px 1px 3px 1px rgba(0, 0, 0, 0.15);\n",
              "      filter: drop-shadow(0px 1px 2px rgba(0, 0, 0, 0.3));\n",
              "      fill: #FFFFFF;\n",
              "    }\n",
              "  </style>\n",
              "\n",
              "      <script>\n",
              "        const buttonEl =\n",
              "          document.querySelector('#df-158ee394-32ec-40b5-b9e2-9d69e7418add button.colab-df-convert');\n",
              "        buttonEl.style.display =\n",
              "          google.colab.kernel.accessAllowed ? 'block' : 'none';\n",
              "\n",
              "        async function convertToInteractive(key) {\n",
              "          const element = document.querySelector('#df-158ee394-32ec-40b5-b9e2-9d69e7418add');\n",
              "          const dataTable =\n",
              "            await google.colab.kernel.invokeFunction('convertToInteractive',\n",
              "                                                     [key], {});\n",
              "          if (!dataTable) return;\n",
              "\n",
              "          const docLinkHtml = 'Like what you see? Visit the ' +\n",
              "            '<a target=\"_blank\" href=https://colab.research.google.com/notebooks/data_table.ipynb>data table notebook</a>'\n",
              "            + ' to learn more about interactive tables.';\n",
              "          element.innerHTML = '';\n",
              "          dataTable['output_type'] = 'display_data';\n",
              "          await google.colab.output.renderOutput(dataTable, element);\n",
              "          const docLink = document.createElement('div');\n",
              "          docLink.innerHTML = docLinkHtml;\n",
              "          element.appendChild(docLink);\n",
              "        }\n",
              "      </script>\n",
              "    </div>\n",
              "  </div>\n",
              "  "
            ],
            "text/plain": [
              "                id tell_call  total_time_remain  state         note_content\n",
              "0         56291038   viettel                  0     50     NO_USER_RESPONSE\n",
              "1         56291039   viettel                  0     50     NO_USER_RESPONSE\n",
              "2         56291040   viettel                  0     50     NO_USER_RESPONSE\n",
              "3         56291041   viettel                  0     50     NO_USER_RESPONSE\n",
              "4         56291042   viettel                  0     50     NO_USER_RESPONSE\n",
              "...            ...       ...                ...    ...                  ...\n",
              "15024850  78868607   viettel                105     50  VOICEMAIL_DETECTION\n",
              "15024851  78868608   viettel                 17     50            USER_BUSY\n",
              "15024852  78868609   viettel                 28     40      NORMAL_CLEARING\n",
              "15024853  78868610   viettel                 24     50            USER_BUSY\n",
              "15024854  78868611   viettel                 43     40      NORMAL_CLEARING\n",
              "\n",
              "[25211864 rows x 5 columns]"
            ]
          },
          "execution_count": 9,
          "metadata": {},
          "output_type": "execute_result"
        }
      ],
      "source": [
        "df"
      ]
    },
    {
      "cell_type": "code",
      "execution_count": null,
      "metadata": {
        "colab": {
          "base_uri": "https://localhost:8080/",
          "height": 423
        },
        "id": "A8L7vopdHNG-",
        "outputId": "a2b75701-1787-4b5d-e3e0-ae50d8cfd9cf"
      },
      "outputs": [
        {
          "data": {
            "text/html": [
              "\n",
              "  <div id=\"df-d0fe3bc4-6fb3-4c2b-9385-9fe99a7a0347\">\n",
              "    <div class=\"colab-df-container\">\n",
              "      <div>\n",
              "<style scoped>\n",
              "    .dataframe tbody tr th:only-of-type {\n",
              "        vertical-align: middle;\n",
              "    }\n",
              "\n",
              "    .dataframe tbody tr th {\n",
              "        vertical-align: top;\n",
              "    }\n",
              "\n",
              "    .dataframe thead th {\n",
              "        text-align: right;\n",
              "    }\n",
              "</style>\n",
              "<table border=\"1\" class=\"dataframe\">\n",
              "  <thead>\n",
              "    <tr style=\"text-align: right;\">\n",
              "      <th></th>\n",
              "      <th>id</th>\n",
              "      <th>tell_call</th>\n",
              "      <th>total_time_remain</th>\n",
              "      <th>state</th>\n",
              "      <th>note_content</th>\n",
              "    </tr>\n",
              "  </thead>\n",
              "  <tbody>\n",
              "    <tr>\n",
              "      <th>7</th>\n",
              "      <td>56291045</td>\n",
              "      <td>viettel</td>\n",
              "      <td>61</td>\n",
              "      <td>40</td>\n",
              "      <td>NORMAL_CLEARING</td>\n",
              "    </tr>\n",
              "    <tr>\n",
              "      <th>23</th>\n",
              "      <td>56291061</td>\n",
              "      <td>viettel</td>\n",
              "      <td>35</td>\n",
              "      <td>50</td>\n",
              "      <td>NO_USER_RESPONSE</td>\n",
              "    </tr>\n",
              "    <tr>\n",
              "      <th>28</th>\n",
              "      <td>56291066</td>\n",
              "      <td>viettel</td>\n",
              "      <td>81</td>\n",
              "      <td>50</td>\n",
              "      <td>VOICEMAIL_DETECTION</td>\n",
              "    </tr>\n",
              "    <tr>\n",
              "      <th>30</th>\n",
              "      <td>56291068</td>\n",
              "      <td>viettel</td>\n",
              "      <td>53</td>\n",
              "      <td>50</td>\n",
              "      <td>NO_USER_RESPONSE</td>\n",
              "    </tr>\n",
              "    <tr>\n",
              "      <th>42</th>\n",
              "      <td>56291080</td>\n",
              "      <td>viettel</td>\n",
              "      <td>54</td>\n",
              "      <td>50</td>\n",
              "      <td>VOICEMAIL_DETECTION</td>\n",
              "    </tr>\n",
              "    <tr>\n",
              "      <th>...</th>\n",
              "      <td>...</td>\n",
              "      <td>...</td>\n",
              "      <td>...</td>\n",
              "      <td>...</td>\n",
              "      <td>...</td>\n",
              "    </tr>\n",
              "    <tr>\n",
              "      <th>15024850</th>\n",
              "      <td>78868607</td>\n",
              "      <td>viettel</td>\n",
              "      <td>105</td>\n",
              "      <td>50</td>\n",
              "      <td>VOICEMAIL_DETECTION</td>\n",
              "    </tr>\n",
              "    <tr>\n",
              "      <th>15024851</th>\n",
              "      <td>78868608</td>\n",
              "      <td>viettel</td>\n",
              "      <td>17</td>\n",
              "      <td>50</td>\n",
              "      <td>USER_BUSY</td>\n",
              "    </tr>\n",
              "    <tr>\n",
              "      <th>15024852</th>\n",
              "      <td>78868609</td>\n",
              "      <td>viettel</td>\n",
              "      <td>28</td>\n",
              "      <td>40</td>\n",
              "      <td>NORMAL_CLEARING</td>\n",
              "    </tr>\n",
              "    <tr>\n",
              "      <th>15024853</th>\n",
              "      <td>78868610</td>\n",
              "      <td>viettel</td>\n",
              "      <td>24</td>\n",
              "      <td>50</td>\n",
              "      <td>USER_BUSY</td>\n",
              "    </tr>\n",
              "    <tr>\n",
              "      <th>15024854</th>\n",
              "      <td>78868611</td>\n",
              "      <td>viettel</td>\n",
              "      <td>43</td>\n",
              "      <td>40</td>\n",
              "      <td>NORMAL_CLEARING</td>\n",
              "    </tr>\n",
              "  </tbody>\n",
              "</table>\n",
              "<p>22554923 rows × 5 columns</p>\n",
              "</div>\n",
              "      <button class=\"colab-df-convert\" onclick=\"convertToInteractive('df-d0fe3bc4-6fb3-4c2b-9385-9fe99a7a0347')\"\n",
              "              title=\"Convert this dataframe to an interactive table.\"\n",
              "              style=\"display:none;\">\n",
              "        \n",
              "  <svg xmlns=\"http://www.w3.org/2000/svg\" height=\"24px\"viewBox=\"0 0 24 24\"\n",
              "       width=\"24px\">\n",
              "    <path d=\"M0 0h24v24H0V0z\" fill=\"none\"/>\n",
              "    <path d=\"M18.56 5.44l.94 2.06.94-2.06 2.06-.94-2.06-.94-.94-2.06-.94 2.06-2.06.94zm-11 1L8.5 8.5l.94-2.06 2.06-.94-2.06-.94L8.5 2.5l-.94 2.06-2.06.94zm10 10l.94 2.06.94-2.06 2.06-.94-2.06-.94-.94-2.06-.94 2.06-2.06.94z\"/><path d=\"M17.41 7.96l-1.37-1.37c-.4-.4-.92-.59-1.43-.59-.52 0-1.04.2-1.43.59L10.3 9.45l-7.72 7.72c-.78.78-.78 2.05 0 2.83L4 21.41c.39.39.9.59 1.41.59.51 0 1.02-.2 1.41-.59l7.78-7.78 2.81-2.81c.8-.78.8-2.07 0-2.86zM5.41 20L4 18.59l7.72-7.72 1.47 1.35L5.41 20z\"/>\n",
              "  </svg>\n",
              "      </button>\n",
              "      \n",
              "  <style>\n",
              "    .colab-df-container {\n",
              "      display:flex;\n",
              "      flex-wrap:wrap;\n",
              "      gap: 12px;\n",
              "    }\n",
              "\n",
              "    .colab-df-convert {\n",
              "      background-color: #E8F0FE;\n",
              "      border: none;\n",
              "      border-radius: 50%;\n",
              "      cursor: pointer;\n",
              "      display: none;\n",
              "      fill: #1967D2;\n",
              "      height: 32px;\n",
              "      padding: 0 0 0 0;\n",
              "      width: 32px;\n",
              "    }\n",
              "\n",
              "    .colab-df-convert:hover {\n",
              "      background-color: #E2EBFA;\n",
              "      box-shadow: 0px 1px 2px rgba(60, 64, 67, 0.3), 0px 1px 3px 1px rgba(60, 64, 67, 0.15);\n",
              "      fill: #174EA6;\n",
              "    }\n",
              "\n",
              "    [theme=dark] .colab-df-convert {\n",
              "      background-color: #3B4455;\n",
              "      fill: #D2E3FC;\n",
              "    }\n",
              "\n",
              "    [theme=dark] .colab-df-convert:hover {\n",
              "      background-color: #434B5C;\n",
              "      box-shadow: 0px 1px 3px 1px rgba(0, 0, 0, 0.15);\n",
              "      filter: drop-shadow(0px 1px 2px rgba(0, 0, 0, 0.3));\n",
              "      fill: #FFFFFF;\n",
              "    }\n",
              "  </style>\n",
              "\n",
              "      <script>\n",
              "        const buttonEl =\n",
              "          document.querySelector('#df-d0fe3bc4-6fb3-4c2b-9385-9fe99a7a0347 button.colab-df-convert');\n",
              "        buttonEl.style.display =\n",
              "          google.colab.kernel.accessAllowed ? 'block' : 'none';\n",
              "\n",
              "        async function convertToInteractive(key) {\n",
              "          const element = document.querySelector('#df-d0fe3bc4-6fb3-4c2b-9385-9fe99a7a0347');\n",
              "          const dataTable =\n",
              "            await google.colab.kernel.invokeFunction('convertToInteractive',\n",
              "                                                     [key], {});\n",
              "          if (!dataTable) return;\n",
              "\n",
              "          const docLinkHtml = 'Like what you see? Visit the ' +\n",
              "            '<a target=\"_blank\" href=https://colab.research.google.com/notebooks/data_table.ipynb>data table notebook</a>'\n",
              "            + ' to learn more about interactive tables.';\n",
              "          element.innerHTML = '';\n",
              "          dataTable['output_type'] = 'display_data';\n",
              "          await google.colab.output.renderOutput(dataTable, element);\n",
              "          const docLink = document.createElement('div');\n",
              "          docLink.innerHTML = docLinkHtml;\n",
              "          element.appendChild(docLink);\n",
              "        }\n",
              "      </script>\n",
              "    </div>\n",
              "  </div>\n",
              "  "
            ],
            "text/plain": [
              "                id tell_call  total_time_remain  state         note_content\n",
              "7         56291045   viettel                 61     40      NORMAL_CLEARING\n",
              "23        56291061   viettel                 35     50     NO_USER_RESPONSE\n",
              "28        56291066   viettel                 81     50  VOICEMAIL_DETECTION\n",
              "30        56291068   viettel                 53     50     NO_USER_RESPONSE\n",
              "42        56291080   viettel                 54     50  VOICEMAIL_DETECTION\n",
              "...            ...       ...                ...    ...                  ...\n",
              "15024850  78868607   viettel                105     50  VOICEMAIL_DETECTION\n",
              "15024851  78868608   viettel                 17     50            USER_BUSY\n",
              "15024852  78868609   viettel                 28     40      NORMAL_CLEARING\n",
              "15024853  78868610   viettel                 24     50            USER_BUSY\n",
              "15024854  78868611   viettel                 43     40      NORMAL_CLEARING\n",
              "\n",
              "[22554923 rows x 5 columns]"
            ]
          },
          "execution_count": 10,
          "metadata": {},
          "output_type": "execute_result"
        }
      ],
      "source": [
        "df = df[df['total_time_remain'] != 0].copy(deep=True)\n",
        "gc.collect()\n",
        "df"
      ]
    },
    {
      "cell_type": "markdown",
      "metadata": {
        "id": "u3sZlVu3HpiN"
      },
      "source": [
        "### K-Means for total_time_remain"
      ]
    },
    {
      "cell_type": "code",
      "execution_count": null,
      "metadata": {
        "colab": {
          "base_uri": "https://localhost:8080/",
          "height": 294
        },
        "id": "29OfL31_Hr22",
        "outputId": "745f4e98-308d-4082-b264-cb7d42df126a"
      },
      "outputs": [
        {
          "data": {
            "text/plain": [
              "<matplotlib.axes._subplots.AxesSubplot at 0x7efef7c7aeb0>"
            ]
          },
          "execution_count": 11,
          "metadata": {},
          "output_type": "execute_result"
        },
        {
          "data": {
            "image/png": "[encoded data removed]",
            "text/plain": [
              "<Figure size 432x288 with 1 Axes>"
            ]
          },
          "metadata": {
            "needs_background": "light"
          },
          "output_type": "display_data"
        }
      ],
      "source": [
        "df[df['total_time_remain'] < 120]['total_time_remain'].hist(bins=120)"
      ]
    },
    {
      "cell_type": "code",
      "execution_count": null,
      "metadata": {
        "colab": {
          "base_uri": "https://localhost:8080/",
          "height": 1000
        },
        "id": "dvMZdpWFJK9N",
        "outputId": "d1450bea-1667-42b2-a6f3-7fb9ee57d6b2"
      },
      "outputs": [
        {
          "name": "stderr",
          "output_type": "stream",
          "text": [
            "100%|██████████| 10/10 [49:10<00:00, 295.08s/it]\n"
          ]
        },
        {
          "data": {
            "image/png": "[encoded data removed]",
            "text/plain": [
              "<Figure size 1440x2880 with 20 Axes>"
            ]
          },
          "metadata": {
            "needs_background": "light"
          },
          "output_type": "display_data"
        }
      ],
      "source": [
        "# figure, axis = plt.subplots(10, 2, figsize=(20, 40))\n",
        "\n",
        "# X = np.array(list(df['total_time_remain'])).reshape(-1,1)\n",
        "# for i in tqdm.tqdm(range(3, 13)):\n",
        "#     kmeans = KMeans(n_clusters=i, random_state=42).fit(X)\n",
        "#     pred = kmeans.predict(X)\n",
        "#     df['label'] = pred\n",
        "#     u_labels = np.unique(pred)\n",
        "\n",
        "#     dct = {} \n",
        "#     for lb in u_labels:\n",
        "#         dct[lb] = min(list(df[df['label'] == lb]['total_time_remain']))\n",
        "    \n",
        "#     sort_key = sorted(dct, key = lambda x : dct[x])\n",
        "\n",
        "#     for i_ in range(len(sort_key)):\n",
        "#         dct[sort_key[i_]] = i_ + 1 \n",
        "\n",
        "#     df['label_bar'] = df['label'].apply(lambda x : dct[x])\n",
        "#     dct_bar_count = dict(df['label_bar'].value_counts())\n",
        "#     keys_bar, values_bar = [], []\n",
        "#     for i_ in range(len(sort_key)):\n",
        "#         keys_bar.append(i_ + 1)\n",
        "#         values_bar.append(dct_bar_count[i_ + 1])\n",
        "\n",
        "#     num_axis = i - 3\n",
        "#     for lb in u_labels:\n",
        "#         axis[num_axis, 0].bar(keys_bar, values_bar, width=0.4)\n",
        "#         # axis[num_axis, 0].title(f'{i} cluster')\n",
        "#         axis[num_axis, 1].scatter(df[df['label'] == lb]['total_time_remain'], [0.5*dct[lb]] * len(list(df[df['label'] == lb]['total_time_remain'])), label=lb)\n",
        "#         # axis[num_axis, 1].title(f'{i} cluster')"
      ]
    },
    {
      "cell_type": "code",
      "execution_count": null,
      "metadata": {
        "colab": {
          "base_uri": "https://localhost:8080/",
          "height": 206
        },
        "id": "pPdJRlYxg4GA",
        "outputId": "913a9c7f-a4be-40bd-8eb7-761cd2fd2f8e"
      },
      "outputs": [
        {
          "data": {
            "text/html": [
              "\n",
              "  <div id=\"df-2b178d74-1a44-42c7-a07a-de713b4ba4e1\">\n",
              "    <div class=\"colab-df-container\">\n",
              "      <div>\n",
              "<style scoped>\n",
              "    .dataframe tbody tr th:only-of-type {\n",
              "        vertical-align: middle;\n",
              "    }\n",
              "\n",
              "    .dataframe tbody tr th {\n",
              "        vertical-align: top;\n",
              "    }\n",
              "\n",
              "    .dataframe thead th {\n",
              "        text-align: right;\n",
              "    }\n",
              "</style>\n",
              "<table border=\"1\" class=\"dataframe\">\n",
              "  <thead>\n",
              "    <tr style=\"text-align: right;\">\n",
              "      <th></th>\n",
              "      <th>id</th>\n",
              "      <th>tell_call</th>\n",
              "      <th>total_time_remain</th>\n",
              "      <th>state</th>\n",
              "      <th>note_content</th>\n",
              "      <th>label</th>\n",
              "      <th>label_bar</th>\n",
              "    </tr>\n",
              "  </thead>\n",
              "  <tbody>\n",
              "    <tr>\n",
              "      <th>7</th>\n",
              "      <td>56291045</td>\n",
              "      <td>viettel</td>\n",
              "      <td>61</td>\n",
              "      <td>40</td>\n",
              "      <td>NORMAL_CLEARING</td>\n",
              "      <td>1</td>\n",
              "      <td>8</td>\n",
              "    </tr>\n",
              "    <tr>\n",
              "      <th>23</th>\n",
              "      <td>56291061</td>\n",
              "      <td>viettel</td>\n",
              "      <td>35</td>\n",
              "      <td>50</td>\n",
              "      <td>NO_USER_RESPONSE</td>\n",
              "      <td>2</td>\n",
              "      <td>5</td>\n",
              "    </tr>\n",
              "    <tr>\n",
              "      <th>28</th>\n",
              "      <td>56291066</td>\n",
              "      <td>viettel</td>\n",
              "      <td>81</td>\n",
              "      <td>50</td>\n",
              "      <td>VOICEMAIL_DETECTION</td>\n",
              "      <td>11</td>\n",
              "      <td>10</td>\n",
              "    </tr>\n",
              "    <tr>\n",
              "      <th>30</th>\n",
              "      <td>56291068</td>\n",
              "      <td>viettel</td>\n",
              "      <td>53</td>\n",
              "      <td>50</td>\n",
              "      <td>NO_USER_RESPONSE</td>\n",
              "      <td>5</td>\n",
              "      <td>7</td>\n",
              "    </tr>\n",
              "    <tr>\n",
              "      <th>42</th>\n",
              "      <td>56291080</td>\n",
              "      <td>viettel</td>\n",
              "      <td>54</td>\n",
              "      <td>50</td>\n",
              "      <td>VOICEMAIL_DETECTION</td>\n",
              "      <td>5</td>\n",
              "      <td>7</td>\n",
              "    </tr>\n",
              "  </tbody>\n",
              "</table>\n",
              "</div>\n",
              "      <button class=\"colab-df-convert\" onclick=\"convertToInteractive('df-2b178d74-1a44-42c7-a07a-de713b4ba4e1')\"\n",
              "              title=\"Convert this dataframe to an interactive table.\"\n",
              "              style=\"display:none;\">\n",
              "        \n",
              "  <svg xmlns=\"http://www.w3.org/2000/svg\" height=\"24px\"viewBox=\"0 0 24 24\"\n",
              "       width=\"24px\">\n",
              "    <path d=\"M0 0h24v24H0V0z\" fill=\"none\"/>\n",
              "    <path d=\"M18.56 5.44l.94 2.06.94-2.06 2.06-.94-2.06-.94-.94-2.06-.94 2.06-2.06.94zm-11 1L8.5 8.5l.94-2.06 2.06-.94-2.06-.94L8.5 2.5l-.94 2.06-2.06.94zm10 10l.94 2.06.94-2.06 2.06-.94-2.06-.94-.94-2.06-.94 2.06-2.06.94z\"/><path d=\"M17.41 7.96l-1.37-1.37c-.4-.4-.92-.59-1.43-.59-.52 0-1.04.2-1.43.59L10.3 9.45l-7.72 7.72c-.78.78-.78 2.05 0 2.83L4 21.41c.39.39.9.59 1.41.59.51 0 1.02-.2 1.41-.59l7.78-7.78 2.81-2.81c.8-.78.8-2.07 0-2.86zM5.41 20L4 18.59l7.72-7.72 1.47 1.35L5.41 20z\"/>\n",
              "  </svg>\n",
              "      </button>\n",
              "      \n",
              "  <style>\n",
              "    .colab-df-container {\n",
              "      display:flex;\n",
              "      flex-wrap:wrap;\n",
              "      gap: 12px;\n",
              "    }\n",
              "\n",
              "    .colab-df-convert {\n",
              "      background-color: #E8F0FE;\n",
              "      border: none;\n",
              "      border-radius: 50%;\n",
              "      cursor: pointer;\n",
              "      display: none;\n",
              "      fill: #1967D2;\n",
              "      height: 32px;\n",
              "      padding: 0 0 0 0;\n",
              "      width: 32px;\n",
              "    }\n",
              "\n",
              "    .colab-df-convert:hover {\n",
              "      background-color: #E2EBFA;\n",
              "      box-shadow: 0px 1px 2px rgba(60, 64, 67, 0.3), 0px 1px 3px 1px rgba(60, 64, 67, 0.15);\n",
              "      fill: #174EA6;\n",
              "    }\n",
              "\n",
              "    [theme=dark] .colab-df-convert {\n",
              "      background-color: #3B4455;\n",
              "      fill: #D2E3FC;\n",
              "    }\n",
              "\n",
              "    [theme=dark] .colab-df-convert:hover {\n",
              "      background-color: #434B5C;\n",
              "      box-shadow: 0px 1px 3px 1px rgba(0, 0, 0, 0.15);\n",
              "      filter: drop-shadow(0px 1px 2px rgba(0, 0, 0, 0.3));\n",
              "      fill: #FFFFFF;\n",
              "    }\n",
              "  </style>\n",
              "\n",
              "      <script>\n",
              "        const buttonEl =\n",
              "          document.querySelector('#df-2b178d74-1a44-42c7-a07a-de713b4ba4e1 button.colab-df-convert');\n",
              "        buttonEl.style.display =\n",
              "          google.colab.kernel.accessAllowed ? 'block' : 'none';\n",
              "\n",
              "        async function convertToInteractive(key) {\n",
              "          const element = document.querySelector('#df-2b178d74-1a44-42c7-a07a-de713b4ba4e1');\n",
              "          const dataTable =\n",
              "            await google.colab.kernel.invokeFunction('convertToInteractive',\n",
              "                                                     [key], {});\n",
              "          if (!dataTable) return;\n",
              "\n",
              "          const docLinkHtml = 'Like what you see? Visit the ' +\n",
              "            '<a target=\"_blank\" href=https://colab.research.google.com/notebooks/data_table.ipynb>data table notebook</a>'\n",
              "            + ' to learn more about interactive tables.';\n",
              "          element.innerHTML = '';\n",
              "          dataTable['output_type'] = 'display_data';\n",
              "          await google.colab.output.renderOutput(dataTable, element);\n",
              "          const docLink = document.createElement('div');\n",
              "          docLink.innerHTML = docLinkHtml;\n",
              "          element.appendChild(docLink);\n",
              "        }\n",
              "      </script>\n",
              "    </div>\n",
              "  </div>\n",
              "  "
            ],
            "text/plain": [
              "          id tell_call  total_time_remain  state         note_content  label  \\\n",
              "7   56291045   viettel                 61     40      NORMAL_CLEARING      1   \n",
              "23  56291061   viettel                 35     50     NO_USER_RESPONSE      2   \n",
              "28  56291066   viettel                 81     50  VOICEMAIL_DETECTION     11   \n",
              "30  56291068   viettel                 53     50     NO_USER_RESPONSE      5   \n",
              "42  56291080   viettel                 54     50  VOICEMAIL_DETECTION      5   \n",
              "\n",
              "    label_bar  \n",
              "7           8  \n",
              "23          5  \n",
              "28         10  \n",
              "30          7  \n",
              "42          7  "
            ]
          },
          "execution_count": 18,
          "metadata": {},
          "output_type": "execute_result"
        }
      ],
      "source": [
        "# df.head()"
      ]
    },
    {
      "cell_type": "code",
      "execution_count": null,
      "metadata": {
        "id": "MMAZN_ZjgiH6"
      },
      "outputs": [],
      "source": [
        "# del X\n",
        "# del u_labels\n",
        "# del dct\n",
        "# del dct_bar_count\n",
        "# del kmeans\n",
        "# del keys_bar\n",
        "# del values_bar\n",
        "# del axis\n",
        "# del figure\n",
        "# gc.collect()"
      ]
    },
    {
      "cell_type": "code",
      "execution_count": null,
      "metadata": {
        "id": "O87MWddlORjt"
      },
      "outputs": [],
      "source": [
        "# assert False"
      ]
    },
    {
      "cell_type": "code",
      "execution_count": null,
      "metadata": {
        "id": "qGA2aIKIO9ro"
      },
      "outputs": [],
      "source": [
        "X = np.array(list(df['total_time_remain'])).reshape(-1,1)\n",
        "kmeans = KMeans(n_clusters=9, random_state=42).fit(X)\n",
        "pred = kmeans.predict(X)"
      ]
    },
    {
      "cell_type": "code",
      "execution_count": null,
      "metadata": {
        "id": "OgfgEdWVPHIv"
      },
      "outputs": [],
      "source": [
        "df['total_time_remain_label'] = pred"
      ]
    },
    {
      "cell_type": "code",
      "execution_count": null,
      "metadata": {
        "colab": {
          "base_uri": "https://localhost:8080/",
          "height": 423
        },
        "id": "DFlZ6qoyiiiq",
        "outputId": "d6bc7718-a970-4d57-ea29-445bb2c70117"
      },
      "outputs": [
        {
          "data": {
            "text/html": [
              "\n",
              "  <div id=\"df-013da217-5b36-4e4d-b38e-e55c22f0ceb1\">\n",
              "    <div class=\"colab-df-container\">\n",
              "      <div>\n",
              "<style scoped>\n",
              "    .dataframe tbody tr th:only-of-type {\n",
              "        vertical-align: middle;\n",
              "    }\n",
              "\n",
              "    .dataframe tbody tr th {\n",
              "        vertical-align: top;\n",
              "    }\n",
              "\n",
              "    .dataframe thead th {\n",
              "        text-align: right;\n",
              "    }\n",
              "</style>\n",
              "<table border=\"1\" class=\"dataframe\">\n",
              "  <thead>\n",
              "    <tr style=\"text-align: right;\">\n",
              "      <th></th>\n",
              "      <th>id</th>\n",
              "      <th>tell_call</th>\n",
              "      <th>total_time_remain</th>\n",
              "      <th>state</th>\n",
              "      <th>note_content</th>\n",
              "      <th>total_time_remain_label</th>\n",
              "    </tr>\n",
              "  </thead>\n",
              "  <tbody>\n",
              "    <tr>\n",
              "      <th>7</th>\n",
              "      <td>56291045</td>\n",
              "      <td>viettel</td>\n",
              "      <td>61</td>\n",
              "      <td>40</td>\n",
              "      <td>NORMAL_CLEARING</td>\n",
              "      <td>0</td>\n",
              "    </tr>\n",
              "    <tr>\n",
              "      <th>23</th>\n",
              "      <td>56291061</td>\n",
              "      <td>viettel</td>\n",
              "      <td>35</td>\n",
              "      <td>50</td>\n",
              "      <td>NO_USER_RESPONSE</td>\n",
              "      <td>3</td>\n",
              "    </tr>\n",
              "    <tr>\n",
              "      <th>28</th>\n",
              "      <td>56291066</td>\n",
              "      <td>viettel</td>\n",
              "      <td>81</td>\n",
              "      <td>50</td>\n",
              "      <td>VOICEMAIL_DETECTION</td>\n",
              "      <td>2</td>\n",
              "    </tr>\n",
              "    <tr>\n",
              "      <th>30</th>\n",
              "      <td>56291068</td>\n",
              "      <td>viettel</td>\n",
              "      <td>53</td>\n",
              "      <td>50</td>\n",
              "      <td>NO_USER_RESPONSE</td>\n",
              "      <td>0</td>\n",
              "    </tr>\n",
              "    <tr>\n",
              "      <th>42</th>\n",
              "      <td>56291080</td>\n",
              "      <td>viettel</td>\n",
              "      <td>54</td>\n",
              "      <td>50</td>\n",
              "      <td>VOICEMAIL_DETECTION</td>\n",
              "      <td>0</td>\n",
              "    </tr>\n",
              "    <tr>\n",
              "      <th>...</th>\n",
              "      <td>...</td>\n",
              "      <td>...</td>\n",
              "      <td>...</td>\n",
              "      <td>...</td>\n",
              "      <td>...</td>\n",
              "      <td>...</td>\n",
              "    </tr>\n",
              "    <tr>\n",
              "      <th>15024850</th>\n",
              "      <td>78868607</td>\n",
              "      <td>viettel</td>\n",
              "      <td>105</td>\n",
              "      <td>50</td>\n",
              "      <td>VOICEMAIL_DETECTION</td>\n",
              "      <td>6</td>\n",
              "    </tr>\n",
              "    <tr>\n",
              "      <th>15024851</th>\n",
              "      <td>78868608</td>\n",
              "      <td>viettel</td>\n",
              "      <td>17</td>\n",
              "      <td>50</td>\n",
              "      <td>USER_BUSY</td>\n",
              "      <td>1</td>\n",
              "    </tr>\n",
              "    <tr>\n",
              "      <th>15024852</th>\n",
              "      <td>78868609</td>\n",
              "      <td>viettel</td>\n",
              "      <td>28</td>\n",
              "      <td>40</td>\n",
              "      <td>NORMAL_CLEARING</td>\n",
              "      <td>7</td>\n",
              "    </tr>\n",
              "    <tr>\n",
              "      <th>15024853</th>\n",
              "      <td>78868610</td>\n",
              "      <td>viettel</td>\n",
              "      <td>24</td>\n",
              "      <td>50</td>\n",
              "      <td>USER_BUSY</td>\n",
              "      <td>7</td>\n",
              "    </tr>\n",
              "    <tr>\n",
              "      <th>15024854</th>\n",
              "      <td>78868611</td>\n",
              "      <td>viettel</td>\n",
              "      <td>43</td>\n",
              "      <td>40</td>\n",
              "      <td>NORMAL_CLEARING</td>\n",
              "      <td>5</td>\n",
              "    </tr>\n",
              "  </tbody>\n",
              "</table>\n",
              "<p>22554923 rows × 6 columns</p>\n",
              "</div>\n",
              "      <button class=\"colab-df-convert\" onclick=\"convertToInteractive('df-013da217-5b36-4e4d-b38e-e55c22f0ceb1')\"\n",
              "              title=\"Convert this dataframe to an interactive table.\"\n",
              "              style=\"display:none;\">\n",
              "        \n",
              "  <svg xmlns=\"http://www.w3.org/2000/svg\" height=\"24px\"viewBox=\"0 0 24 24\"\n",
              "       width=\"24px\">\n",
              "    <path d=\"M0 0h24v24H0V0z\" fill=\"none\"/>\n",
              "    <path d=\"M18.56 5.44l.94 2.06.94-2.06 2.06-.94-2.06-.94-.94-2.06-.94 2.06-2.06.94zm-11 1L8.5 8.5l.94-2.06 2.06-.94-2.06-.94L8.5 2.5l-.94 2.06-2.06.94zm10 10l.94 2.06.94-2.06 2.06-.94-2.06-.94-.94-2.06-.94 2.06-2.06.94z\"/><path d=\"M17.41 7.96l-1.37-1.37c-.4-.4-.92-.59-1.43-.59-.52 0-1.04.2-1.43.59L10.3 9.45l-7.72 7.72c-.78.78-.78 2.05 0 2.83L4 21.41c.39.39.9.59 1.41.59.51 0 1.02-.2 1.41-.59l7.78-7.78 2.81-2.81c.8-.78.8-2.07 0-2.86zM5.41 20L4 18.59l7.72-7.72 1.47 1.35L5.41 20z\"/>\n",
              "  </svg>\n",
              "      </button>\n",
              "      \n",
              "  <style>\n",
              "    .colab-df-container {\n",
              "      display:flex;\n",
              "      flex-wrap:wrap;\n",
              "      gap: 12px;\n",
              "    }\n",
              "\n",
              "    .colab-df-convert {\n",
              "      background-color: #E8F0FE;\n",
              "      border: none;\n",
              "      border-radius: 50%;\n",
              "      cursor: pointer;\n",
              "      display: none;\n",
              "      fill: #1967D2;\n",
              "      height: 32px;\n",
              "      padding: 0 0 0 0;\n",
              "      width: 32px;\n",
              "    }\n",
              "\n",
              "    .colab-df-convert:hover {\n",
              "      background-color: #E2EBFA;\n",
              "      box-shadow: 0px 1px 2px rgba(60, 64, 67, 0.3), 0px 1px 3px 1px rgba(60, 64, 67, 0.15);\n",
              "      fill: #174EA6;\n",
              "    }\n",
              "\n",
              "    [theme=dark] .colab-df-convert {\n",
              "      background-color: #3B4455;\n",
              "      fill: #D2E3FC;\n",
              "    }\n",
              "\n",
              "    [theme=dark] .colab-df-convert:hover {\n",
              "      background-color: #434B5C;\n",
              "      box-shadow: 0px 1px 3px 1px rgba(0, 0, 0, 0.15);\n",
              "      filter: drop-shadow(0px 1px 2px rgba(0, 0, 0, 0.3));\n",
              "      fill: #FFFFFF;\n",
              "    }\n",
              "  </style>\n",
              "\n",
              "      <script>\n",
              "        const buttonEl =\n",
              "          document.querySelector('#df-013da217-5b36-4e4d-b38e-e55c22f0ceb1 button.colab-df-convert');\n",
              "        buttonEl.style.display =\n",
              "          google.colab.kernel.accessAllowed ? 'block' : 'none';\n",
              "\n",
              "        async function convertToInteractive(key) {\n",
              "          const element = document.querySelector('#df-013da217-5b36-4e4d-b38e-e55c22f0ceb1');\n",
              "          const dataTable =\n",
              "            await google.colab.kernel.invokeFunction('convertToInteractive',\n",
              "                                                     [key], {});\n",
              "          if (!dataTable) return;\n",
              "\n",
              "          const docLinkHtml = 'Like what you see? Visit the ' +\n",
              "            '<a target=\"_blank\" href=https://colab.research.google.com/notebooks/data_table.ipynb>data table notebook</a>'\n",
              "            + ' to learn more about interactive tables.';\n",
              "          element.innerHTML = '';\n",
              "          dataTable['output_type'] = 'display_data';\n",
              "          await google.colab.output.renderOutput(dataTable, element);\n",
              "          const docLink = document.createElement('div');\n",
              "          docLink.innerHTML = docLinkHtml;\n",
              "          element.appendChild(docLink);\n",
              "        }\n",
              "      </script>\n",
              "    </div>\n",
              "  </div>\n",
              "  "
            ],
            "text/plain": [
              "                id tell_call  total_time_remain  state         note_content  \\\n",
              "7         56291045   viettel                 61     40      NORMAL_CLEARING   \n",
              "23        56291061   viettel                 35     50     NO_USER_RESPONSE   \n",
              "28        56291066   viettel                 81     50  VOICEMAIL_DETECTION   \n",
              "30        56291068   viettel                 53     50     NO_USER_RESPONSE   \n",
              "42        56291080   viettel                 54     50  VOICEMAIL_DETECTION   \n",
              "...            ...       ...                ...    ...                  ...   \n",
              "15024850  78868607   viettel                105     50  VOICEMAIL_DETECTION   \n",
              "15024851  78868608   viettel                 17     50            USER_BUSY   \n",
              "15024852  78868609   viettel                 28     40      NORMAL_CLEARING   \n",
              "15024853  78868610   viettel                 24     50            USER_BUSY   \n",
              "15024854  78868611   viettel                 43     40      NORMAL_CLEARING   \n",
              "\n",
              "          total_time_remain_label  \n",
              "7                               0  \n",
              "23                              3  \n",
              "28                              2  \n",
              "30                              0  \n",
              "42                              0  \n",
              "...                           ...  \n",
              "15024850                        6  \n",
              "15024851                        1  \n",
              "15024852                        7  \n",
              "15024853                        7  \n",
              "15024854                        5  \n",
              "\n",
              "[22554923 rows x 6 columns]"
            ]
          },
          "execution_count": 15,
          "metadata": {},
          "output_type": "execute_result"
        }
      ],
      "source": [
        "df"
      ]
    },
    {
      "cell_type": "code",
      "execution_count": null,
      "metadata": {
        "colab": {
          "base_uri": "https://localhost:8080/"
        },
        "id": "OFlL3LgkixqH",
        "outputId": "00aacc75-eb77-4224-e1d9-0dfe4b69a8c7"
      },
      "outputs": [
        {
          "data": {
            "text/plain": [
              "0"
            ]
          },
          "execution_count": 14,
          "metadata": {},
          "output_type": "execute_result"
        }
      ],
      "source": [
        "del pred\n",
        "del kmeans\n",
        "del X\n",
        "gc.collect()"
      ]
    },
    {
      "cell_type": "markdown",
      "metadata": {
        "id": "o6BoGDYPHuOd"
      },
      "source": [
        "### Stratify data"
      ]
    },
    {
      "cell_type": "code",
      "execution_count": null,
      "metadata": {
        "id": "-qhjBoCGnJsp"
      },
      "outputs": [],
      "source": [
        "dict_reality = dict(df['note_content'].value_counts())\n",
        "# dict_reality = {key : dict_reality[key] for key in dict_reality if dict_reality[key] > 300}\n",
        "order_keys = sorted(list(dict_reality.keys()), key=lambda x : dict_reality[x], reverse=True)\n",
        "order_keys = [key for key in order_keys if dict_reality[key] > 300]"
      ]
    },
    {
      "cell_type": "code",
      "execution_count": null,
      "metadata": {
        "colab": {
          "base_uri": "https://localhost:8080/"
        },
        "id": "sxlI9WWZokyS",
        "outputId": "61703175-3249-45e8-e04a-d64406c67f07"
      },
      "outputs": [
        {
          "name": "stdout",
          "output_type": "stream",
          "text": [
            "22554923\n",
            "22554463\n"
          ]
        }
      ],
      "source": [
        "print(len(df))\n",
        "df = df.apply(lambda row: row[df['note_content'].isin(order_keys)])\n",
        "print(len(df))"
      ]
    },
    {
      "cell_type": "code",
      "execution_count": null,
      "metadata": {
        "id": "YkjOANXSoInF"
      },
      "outputs": [],
      "source": [
        "values_real = [dict_reality[key] for key in order_keys]"
      ]
    },
    {
      "cell_type": "code",
      "execution_count": null,
      "metadata": {
        "colab": {
          "base_uri": "https://localhost:8080/",
          "height": 350
        },
        "id": "0ukgWKRPHtZc",
        "outputId": "2cc8452e-ed2b-48b1-d81e-1c8177e24da2"
      },
      "outputs": [
        {
          "data": {
            "text/plain": [
              "<BarContainer object of 25 artists>"
            ]
          },
          "execution_count": 40,
          "metadata": {},
          "output_type": "execute_result"
        },
        {
          "data": {
            "image/png": "[encoded data removed]",
            "text/plain": [
              "<Figure size 1080x360 with 1 Axes>"
            ]
          },
          "metadata": {
            "needs_background": "light"
          },
          "output_type": "display_data"
        }
      ],
      "source": [
        "fig = plt.figure(figsize = (15, 5))\n",
        "\n",
        "plt.bar(order_keys, values_real, color ='maroon', width = 0.6)"
      ]
    },
    {
      "cell_type": "code",
      "execution_count": null,
      "metadata": {
        "colab": {
          "base_uri": "https://localhost:8080/"
        },
        "id": "BdzUHZxpmgTw",
        "outputId": "77eb4978-22fd-4f8e-87a1-20b80e0fff77"
      },
      "outputs": [
        {
          "data": {
            "text/plain": [
              "NORMAL_CLEARING                   6288751\n",
              "VOICEMAIL_DETECTION               4532524\n",
              "NO_USER_RESPONSE                  4430255\n",
              "RECOVERY_ON_TIMER_EXPIRE          2685525\n",
              "USER_BUSY                         1642401\n",
              "NORMAL_TEMPORARY_FAILURE           993207\n",
              "NO_ANSWER                          674349\n",
              "NORMAL_UNSPECIFIED                 501609\n",
              "CALL_REJECTED                      468369\n",
              "UNALLOCATED_NUMBER                 179748\n",
              "INCOMPATIBLE_DESTINATION           121592\n",
              "NORMAL_CIRCUIT_CONGESTION            7724\n",
              "NETWORK_OUT_OF_ORDER                 7591\n",
              "ORIGINATOR_CANCEL                    3788\n",
              "DESTINATION_OUT_OF_ORDER             3513\n",
              "SERVICE_UNAVAILABLE                  2297\n",
              "UNKNOWN                              2174\n",
              "INVALID_NUMBER_FORMAT                1660\n",
              "NUMBER_CHANGED                       1653\n",
              "SWITCH_CONGESTION                    1492\n",
              "REDIRECTION_TO_NEW_DESTINATION       1491\n",
              "SUBSCRIBER_ABSENT                    1070\n",
              "PROTOCOL_ERROR                        592\n",
              "FACILITY_NOT_SUBSCRIBED               551\n",
              "NO_ROUTE_DESTINATION                  537\n",
              "Name: note_content, dtype: int64"
            ]
          },
          "execution_count": 42,
          "metadata": {},
          "output_type": "execute_result"
        }
      ],
      "source": [
        "df['note_content'].value_counts()"
      ]
    },
    {
      "cell_type": "code",
      "execution_count": null,
      "metadata": {
        "id": "LMm_2bwwK5Dc"
      },
      "outputs": [],
      "source": [
        "ratios = []\n",
        "for i in range(len(order_keys) - 1):\n",
        "  ratios.append(dict_reality[order_keys[i]] / dict_reality[order_keys[i+1]])"
      ]
    },
    {
      "cell_type": "code",
      "execution_count": null,
      "metadata": {
        "colab": {
          "base_uri": "https://localhost:8080/"
        },
        "id": "tETJXiEIOMTI",
        "outputId": "18b8e982-f62d-4fc8-b0e2-3a96681c1558"
      },
      "outputs": [
        {
          "name": "stdout",
          "output_type": "stream",
          "text": [
            "25\n"
          ]
        }
      ],
      "source": [
        "print(len(order_keys))"
      ]
    },
    {
      "cell_type": "code",
      "execution_count": null,
      "metadata": {
        "id": "ht_VODmUMUp2"
      },
      "outputs": [],
      "source": [
        "for i in range(len(order_keys)):\n",
        "  print(dict_reality[order_keys[i]])"
      ]
    },
    {
      "cell_type": "code",
      "execution_count": null,
      "metadata": {
        "colab": {
          "base_uri": "https://localhost:8080/"
        },
        "id": "57o2eAtfEErs",
        "outputId": "61ac4e64-c613-441c-e3f3-6b7132fbaddb"
      },
      "outputs": [
        {
          "name": "stdout",
          "output_type": "stream",
          "text": [
            "[1.0260707635009312, 1.074410163339383, 1.8074324324324325, 1.3934579439252337, 1.000670690811536, 1.1079088471849865, 1.0042347247428918, 1.3096385542168674, 1.0565777368905245, 1.5293861558554636, 1.0782806717904925, 2.003959873284055, 1.0175207482545119, 15.742102537545314, 1.478288045266136, 2.605697977168035, 1.0709696841592846, 1.344371811510559, 1.472838248444055, 1.653634136690539, 1.635121386311869, 1.6496792992059282, 1.0230842242715148, 1.3874721898880182]\n"
          ]
        }
      ],
      "source": [
        "ratios = ratios[::-1]\n",
        "print(ratios)"
      ]
    },
    {
      "cell_type": "code",
      "execution_count": null,
      "metadata": {
        "colab": {
          "base_uri": "https://localhost:8080/",
          "height": 1000
        },
        "id": "BfFdNDndA4f8",
        "outputId": "feaef4ec-c1c5-49a3-b7b3-e090fddc3dcf"
      },
      "outputs": [
        {
          "name": "stdout",
          "output_type": "stream",
          "text": [
            "540358 [71384, 64704, 64263, 55302, 47717, 41034, 36534, 33430, 32749, 28554, 28554, 7724, 7591, 3788, 3513, 2297, 2174, 1660, 1653, 1492, 1491, 1070, 592, 551, 537] 25\n"
          ]
        },
        {
          "data": {
            "image/png": "[encoded data removed]",
            "text/plain": [
              "<Figure size 1080x1440 with 10 Axes>"
            ]
          },
          "metadata": {
            "needs_background": "light"
          },
          "output_type": "display_data"
        }
      ],
      "source": [
        "import matplotlib.pyplot as plt\n",
        "fig, axis = plt.subplots(5, 2, figsize = (15, 20))\n",
        "\n",
        "total_file = 500000\n",
        "\n",
        "for i in range(3, 4):\n",
        "    p = i * 0.1\n",
        "    new_ratios = np.power(ratios, p)\n",
        "    # sum_ratio = 1 + np.sum(1 / new_ratios)\n",
        "    smallest_note_content = min(values_real)\n",
        "    new_values_samp = [smallest_note_content]\n",
        "    \n",
        "    for j in range(len(new_ratios)):\n",
        "        times = 1 if j != 0 else 8\n",
        "        # times = 1\n",
        "        new_number = round(new_values_samp[-1] * new_ratios[j]) * times\n",
        "        new_values_samp.append(new_number)\n",
        "\n",
        "    new_values_samp = new_values_samp[::-1]\n",
        "\n",
        "    for j in range(len(new_values_samp)):\n",
        "        # new_values_samp[j] = min(new_values_samp[j], dict_reality[order_keys[j]])\n",
        "        if new_values_samp[j] > round(max(new_values_samp) * 0.4):\n",
        "            new_values_samp[j] = min(new_values_samp[j], dict_reality[order_keys[j]])\n",
        "        else:\n",
        "            new_values_samp[j] = min(round(max(new_values_samp) * 0.4), dict_reality[order_keys[j]])\n",
        "    print(sum(new_values_samp), new_values_samp, len(new_values_samp))\n",
        "    axis[(i - 1) // 2, (i - 1) % 2].bar(order_keys, new_values_samp)"
      ]
    },
    {
      "cell_type": "code",
      "execution_count": null,
      "metadata": {
        "colab": {
          "base_uri": "https://localhost:8080/"
        },
        "id": "G-5qaswnT8n1",
        "outputId": "771fb70b-5e26-4384-a913-e9ee9b177f93"
      },
      "outputs": [
        {
          "name": "stdout",
          "output_type": "stream",
          "text": [
            "[71384, 64704, 64263, 55302, 47717, 41034, 36534, 33430, 32749, 28554, 28554, 7724, 7591, 3788, 3513, 2297, 2174, 1660, 1653, 1492, 1491, 1070, 592, 551, 537]\n"
          ]
        }
      ],
      "source": [
        "print(new_values_samp)"
      ]
    },
    {
      "cell_type": "code",
      "execution_count": null,
      "metadata": {
        "colab": {
          "base_uri": "https://localhost:8080/",
          "height": 266
        },
        "id": "-JgbpdiXb--A",
        "outputId": "36357cab-a9d3-4b70-e5cf-148e17c5a6d8"
      },
      "outputs": [
        {
          "data": {
            "image/png": "[encoded data removed]",
            "text/plain": [
              "<Figure size 432x288 with 1 Axes>"
            ]
          },
          "metadata": {
            "needs_background": "light"
          },
          "output_type": "display_data"
        }
      ],
      "source": [
        "plt.bar(order_keys, new_values_samp)\n",
        "plt.show()"
      ]
    },
    {
      "cell_type": "code",
      "execution_count": null,
      "metadata": {
        "id": "oUasNm6qGNtz"
      },
      "outputs": [],
      "source": [
        "# dct_note_content = {'NORMAL_CLEARING': 122251, 'NO_USER_RESPONSE': 113747, 'VOICEMAIL_DETECTION': 105320, 'RECOVERY_ON_TIMER_EXPIRE': 86078, 'NORMAL_TEMPORARY_FAILURE': 68037, 'USER_BUSY': 54533, 'NO_ANSWER': 35544, 'CALL_REJECTED': 25138, 'PROGRESS_TIMEOUT': 19129, 'NORMAL_UNSPECIFIED': 15626, 'INCOMPATIBLE_DESTINATION': 13265, 'NORMAL_CIRCUIT_CONGESTION': 11462, 'UNALLOCATED_NUMBER': 8024, 'EXCEPTION_CALL': 5415, 'DESTINATION_OUT_OF_ORDER': 5415, 'DATA_ENCRYPTED_INVALID': 5415, 'NETWORK_OUT_OF_ORDER': 5415, 'UNKNOWN': 4821, 'ORIGINATOR_CANCEL': 3788, 'SERVICE_UNAVAILABLE': 2301, 'REDIRECTION_TO_NEW_DESTINATION': 1977, 'INVALID_NUMBER_FORMAT': 1813, 'NUMBER_CHANGED': 1674, 'SWITCH_CONGESTION': 1492, 'SUBSCRIBER_ABSENT': 1175, 'NO_ROUTE_DESTINATION': 603, 'PROTOCOL_ERROR': 592, 'FACILITY_NOT_SUBSCRIBED': 551, 'SERVICE_NOT_IMPLEMENTED': 386, 'BEARERCAPABILITY_NOTAUTH': 313}"
      ]
    },
    {
      "cell_type": "code",
      "execution_count": null,
      "metadata": {
        "colab": {
          "base_uri": "https://localhost:8080/"
        },
        "id": "tzN0EjJLOW4m",
        "outputId": "beefed85-607b-4558-c139-b82f9feda430"
      },
      "outputs": [
        {
          "data": {
            "text/plain": [
              "{'NORMAL_CLEARING': 71384,\n",
              " 'VOICEMAIL_DETECTION': 64704,\n",
              " 'NO_USER_RESPONSE': 64263,\n",
              " 'RECOVERY_ON_TIMER_EXPIRE': 55302,\n",
              " 'USER_BUSY': 47717,\n",
              " 'NORMAL_TEMPORARY_FAILURE': 41034,\n",
              " 'NO_ANSWER': 36534,\n",
              " 'NORMAL_UNSPECIFIED': 33430,\n",
              " 'CALL_REJECTED': 32749,\n",
              " 'UNALLOCATED_NUMBER': 28554,\n",
              " 'INCOMPATIBLE_DESTINATION': 28554,\n",
              " 'NORMAL_CIRCUIT_CONGESTION': 7724,\n",
              " 'NETWORK_OUT_OF_ORDER': 7591,\n",
              " 'ORIGINATOR_CANCEL': 3788,\n",
              " 'DESTINATION_OUT_OF_ORDER': 3513,\n",
              " 'SERVICE_UNAVAILABLE': 2297,\n",
              " 'UNKNOWN': 2174,\n",
              " 'INVALID_NUMBER_FORMAT': 1660,\n",
              " 'NUMBER_CHANGED': 1653,\n",
              " 'SWITCH_CONGESTION': 1492,\n",
              " 'REDIRECTION_TO_NEW_DESTINATION': 1491,\n",
              " 'SUBSCRIBER_ABSENT': 1070,\n",
              " 'PROTOCOL_ERROR': 592,\n",
              " 'FACILITY_NOT_SUBSCRIBED': 551,\n",
              " 'NO_ROUTE_DESTINATION': 537}"
            ]
          },
          "execution_count": 72,
          "metadata": {},
          "output_type": "execute_result"
        }
      ],
      "source": [
        "dct_note_content = {order_keys[i] : new_values_samp[i] for i in range(len(order_keys))}\n",
        "dct_note_content"
      ]
    },
    {
      "cell_type": "code",
      "execution_count": null,
      "metadata": {
        "id": "8rC81BU1w27a"
      },
      "outputs": [],
      "source": [
        "df['id'] = df['id'].apply(lambda x : str(x))"
      ]
    },
    {
      "cell_type": "code",
      "execution_count": null,
      "metadata": {
        "id": "PQ-t0ka_xImr"
      },
      "outputs": [],
      "source": [
        "# with open('/content/drive/MyDrive/IVR/save/priority_id.txt', 'r') as f: \n",
        "#     prio_ids = f.readlines()\n",
        "#     prio_ids = [line.strip() for line in prio_ids]"
      ]
    },
    {
      "cell_type": "code",
      "execution_count": null,
      "metadata": {
        "colab": {
          "base_uri": "https://localhost:8080/"
        },
        "id": "R5rMQX9VxfXq",
        "outputId": "99440616-6b3b-46bb-dad6-81f0229260d1"
      },
      "outputs": [
        {
          "data": {
            "text/plain": [
              "['34497329', '33233420']"
            ]
          },
          "execution_count": 76,
          "metadata": {},
          "output_type": "execute_result"
        }
      ],
      "source": [
        "# prio_ids[:2]"
      ]
    },
    {
      "cell_type": "code",
      "execution_count": null,
      "metadata": {
        "id": "zcUYJdsysCqJ"
      },
      "outputs": [],
      "source": [
        "prio_ids = []"
      ]
    },
    {
      "cell_type": "code",
      "execution_count": null,
      "metadata": {
        "id": "cvoV7GNZGxoz"
      },
      "outputs": [],
      "source": [
        "strata = ['state','total_time_remain_label', 'tell_call']"
      ]
    },
    {
      "cell_type": "code",
      "execution_count": null,
      "metadata": {
        "colab": {
          "base_uri": "https://localhost:8080/"
        },
        "id": "s8Bty4MhF2Oa",
        "outputId": "bec4da4d-8d68-4cf9-d1fc-c296e3611d4f"
      },
      "outputs": [
        {
          "name": "stderr",
          "output_type": "stream",
          "text": [
            "\r  0%|          | 0/25 [00:00<?, ?it/s]"
          ]
        },
        {
          "name": "stdout",
          "output_type": "stream",
          "text": [
            "{'30254938', '31911097', '38527157', '37769106', '30570791', '78584689', '37987287', '38428310', '64558437', '74652479', '30529780', '68197203', '77951438', '68536001', '64470143', '69275866', '76905655', '78576866', '38204767', '33647531', '65792761', '33632828', '74603924', '70874243', '75335237', '36880313', '30237958', '32687407', '33405805', '28899770', '76042317', '77444526', '74659677', '78423868', '30561620', '67213840', '65991995', '30177061', '31829667', '66956642', '36901581', '31374786', '29233918', '69417543', '35818173', '36516307', '67312033', '73262249', '77896610', '36846118', '66407455', '35832026', '78031151', '65657336', '38584968', '34856772', '74724690', '67013665', '69444911', '35087660', '29562297', '34192421', '33271134', '64522084', '30657754', '77937188', '35662915', '71681467', '77627620', '29645694', '66984681', '77158038', '77489687', '67575216', '67848457', '38972576', '28902225', '78224017', '77671221', '64435796', '70946132', '29328146', '72113984', '29010681', '35939329', '73707303', '69407645', '35898706', '70976335', '66453159', '63869938', '32772086', '34615753', '77890918', '30735026', '33974405', '35826405', '75962218', '69838610', '65689066', '78104271', '77678106', '62991345', '30831731', '32010950', '33598017', '74227497', '33539323', '67810378', '78585358', '32566501', '30295470', '38074899', '38252432', '78092829', '30635724', '32938242', '28559237', '38381912', '64845557', '37711358', '35872389', '33065722', '35580236', '77498055', '31644253', '66239483', '71428791', '31603546', '71679954', '66059578', '32490479', '71486838', '69519409', '33357255', '31137299', '35690593', '30933317', '70721144', '38838747', '77822837', '65062630', '37156876', '72665573', '34869068', '69735271', '70660235', '65880648', '37231400', '29790757', '28926349', '78185752', '70153386', '31380669', '36054413', '77973515', '35865156', '76656759', '69525478', '67840973', '28833560', '34545543', '65220259', '73518670', '67719756', '37964065', '77891784', '32845996', '32703286', '31653441', '31564691', '65786829', '33033376', '35039683', '71505686', '38028170', '67852286', '29295523', '77884597', '33660740', '75405134', '31173815', '64863302', '32494405', '30754431', '30232392', '37590645', '69641346', '31405174', '31944814', '77316901', '78175210', '28978615', '77901262', '67847850', '35842145', '63983007', '77466659', '38568868', '31587436', '33106619', '39327257', '34815723', '38527394', '35566703', '37600120', '35272665', '66421024', '69542514', '74850582', '65147263', '73396852', '76625030', '35206900', '77917678', '35275094', '34983538', '65224257', '78612399', '39145124', '71822235', '70338216', '70133061', '29921276', '35625221', '38787858', '64759988', '31200283', '70483142', '34760615', '69982056', '77468485', '67267578', '77904098', '65354156', '37700161', '33619372', '78821073', '33938176', '34030699', '71478198', '32171713', '37537050', '66408371', '78098359', '69888661', '69565719', '28962836', '71646320', '30310624', '66245016', '75182293', '73913172', '37791495', '76423250', '78591108', '63918496', '33448177', '78109428', '62899837', '68568770', '77835550', '34859993', '70500564', '78246480', '32780978', '77905685', '33111633', '71900962', '37311687', '32701372', '31930162', '64748503', '78860980', '36025412', '33271626', '37245278', '69864578', '77962259', '64750637', '37618132', '38723450', '33539445', '65574810', '36593169', '31909271', '31211065', '29621903', '33075926', '34346478', '67491686', '31769282', '30045752', '66234252', '36325365', '33653853', '73738443', '32931892', '71211747', '65752769', '30998048', '31109920', '38906574', '74698070', '76093206', '35226938', '30763442', '31968121', '69693010', '76578097', '70793876', '34910086', '78065013', '28593450', '35856631', '29574474', '30702097', '33359106', '37958937', '73790595', '30306434', '38458682', '77890843', '67190285', '29149835', '77989736', '35790219', '29075703', '65667998', '30107376', '30877254', '31315730', '38224751', '39027487', '29138585', '66897067', '77866858', '36170661', '78482783', '73137624', '69316029', '76326142', '76816657', '30928124', '35814321', '31402127', '78611796', '32436802', '74917132', '37750616', '73120999', '29121232', '77447814', '77923321', '35712907', '73923894', '35794450', '31638544', '67440103', '72351480', '70688296', '69916595', '77669931', '36418321', '33549136', '65672000', '67408074', '32851038', '77614138', '69016528', '32388224', '70956091', '66152434', '28859536', '68436905', '28975669', '36003500', '66173102', '29011452', '76373335', '70348225', '77912439', '64075656', '29042498', '77377657', '36067552', '30159864', '70749030', '36842362', '32282340', '38527007', '67902350', '77525681', '68222922', '77855249', '33643244', '33867775', '67816156', '66051629', '71825293', '32399080', '36105903', '72946202', '72549403', '34820762', '33030672', '37022413', '36137632', '34158687', '65267823', '29999703', '65687599', '69876138', '69070787', '34182656', '65343062', '29276531', '77837492', '29047394', '72356620', '74104774', '65308736', '36339544', '70290975', '78380943', '71284198', '36664343', '35902337', '65188541', '62910620', '71813817', '71292334', '73726968', '64100429', '75488485', '39304065', '31957038', '77565942', '33381705', '33121300', '70600835', '67855897', '67958980', '29549204', '36534430', '64431499', '77855254', '34864760', '33874150', '30441827', '65973407', '65033111', '75145770', '34506939', '68455376', '66970197', '73479221', '73714944', '65183955', '73728856', '35052914', '28744011', '64631059', '39150635', '68013406', '73924157', '75962046', '77595042', '35477705', '29778133', '68785523', '36678371', '39062638', '36451546', '68228225', '77624119', '78169084', '78079121', '33010033', '73500949', '69082804', '70879668', '38741276', '78046315', '29996966', '68404149', '36175319', '35698717', '38764774', '37731734', '31562240', '64751310', '64240756', '69413846', '73515251', '37059251', '65202762', '69838967', '29765743', '78163038', '30842694', '32848720', '74589723', '73658218', '29778731', '70466414', '34769632', '64287482', '70297090', '70968602', '62905949', '69327785', '29326979', '77828477', '35781741', '68156776', '30012455', '67909135', '31696438', '39078276', '32872339', '77469598', '39226806', '28751922', '74968763', '74702599', '78248697', '36815703', '38584155', '31783874', '78109525', '35567700', '38117247', '64261720', '70308002', '33724325', '36859334', '65265114', '66558580', '33605386', '76011785', '75946395', '34482458', '31775246', '76506656', '73336567', '65641388', '39036304', '32884000', '34856629', '31782346', '30747298', '34286250', '35613012', '68430797', '76552953', '73772658', '78460402', '32598574', '74354460', '35685875', '74004395', '37150431', '36104696', '77674102', '65303167', '28758581', '65094513', '66398806', '34971639', '70594164', '34991083', '64338357', '35725513', '69890349', '72515349', '78249899', '36903305', '66630682', '77827294', '76545903', '34576306', '73906743', '36221339', '76478215', '39070107', '77337661', '76118463', '64500911', '33018034', '66128318', '67833826', '35830057', '30515478', '35888627', '39036521', '65573750', '64411452', '36673036', '69567418', '32756373', '73693120', '77678551', '78064640', '78109009', '31224568', '33423452', '77000698', '31403503', '62883907', '69059167', '56382244', '35566682', '77110268', '70740763', '70918403', '38584537', '67529456', '71770775', '76665822', '73485800', '77940332', '74290609', '68031540', '66837502', '75425255', '78192484', '33603242', '74217232', '31213665', '34783625', '29554163', '30296777', '30092533', '67853153', '77915625', '77854675', '78857882', '36604441', '30116537', '77480192', '78179498', '38797957', '38833002', '29425591', '38982704', '78233123', '29913122', '73931524', '29606331', '64530319', '76417561', '68197573', '30208015', '30818115', '70946783', '35790177', '32465816', '34906781', '75970024', '68186911', '74767832', '71685054', '30535595', '70150539', '74609895', '78150966', '72702635', '77806072', '30943812', '33771114', '77670504', '70575188', '31069383', '77920354', '78565202', '37789706', '28971801', '33642852', '38076061', '36885921', '38158624', '71524708', '39329466', '68607101', '36695199', '65782974', '69143624', '37623383', '30193084', '70076401', '74363923', '71737234', '69894804', '78590570', '77625754', '30740509', '35824286', '78040041', '71677452', '68596263', '67323306', '35827174', '74198777', '36496480', '67908310', '35794100', '34633803', '77142490', '69696739', '76644773', '33685990', '35832578', '77675478', '75256349', '31473335', '77964017', '76415796', '28642228', '67667933', '29845726', '73845293', '68601908', '73137317', '77829679', '30813425', '77469149', '78222245', '37760972', '38033278', '30257681', '78868422', '77819000', '29066649', '74423118', '68987044', '31147778', '70018337', '78460787', '73669840', '73577567', '29080333', '31750961', '69963404', '64096749', '35995269', '78242664', '30279425', '78481243', '77493773', '37041404', '70689767', '77894158', '73227938', '78179180', '64401263', '39245737', '33318884', '62940436', '65261912', '30223813', '28631125', '32443463', '70644141', '70823822', '65412798', '34955467', '28708171', '31370250', '34513010', '78614127', '33083770', '66742001', '65140886', '77840053', '28570483', '78516324', '65913739', '35648340', '32073561', '78158581', '35835074', '65774627', '28934054', '31976866', '71657154', '33730766', '31699472', '34355103', '38479788', '70343281', '35842830', '73976020', '66262163', '32677674', '38350693', '30039534', '33579706', '29439061', '70652806', '30093435', '74596609', '76341707', '68207054', '77464833', '36416900', '65990372', '28767902', '69845319', '64871792', '77838538', '64502603', '35109574', '65507470', '70734094', '36131120', '73627137', '31316990', '38354545', '65612639', '29289880', '77912107', '77914783', '38265086', '75303744', '33361375', '75556094', '30345975', '30774957', '67712609', '73223467', '63845822', '32859104', '35044807', '68188483', '35857610', '29043281', '78164903', '64219658', '78077280', '31632906', '77963721', '34879443', '38717208', '69864430', '76904173', '31912377', '35763807', '31452716', '37563622', '66169286', '77836337', '39089398', '65712030', '69395373', '29718444', '78147721', '38555232', '37581474', '30385851', '77901354', '36134760', '70530455', '28999074', '70287732', '76303138', '65094571', '67435081', '33664263', '37573776', '78415189', '35761136', '67909028', '75222022', '74334987', '35046960', '77355170', '68209847', '78154298', '70849037', '37799010', '66116026', '76958364', '77948914', '71717858', '65805387', '78604070', '66173150', '36496484', '73850423', '68984666', '70731537', '31006007', '30752521', '64778547', '65268845', '30047218', '71527818', '34454293', '38544635', '67711979', '77685080', '70670862', '30554233', '70988193', '30909666', '77907812', '30705953', '35832884', '36104699', '78551265', '28728064', '76111781', '77886586', '28957012', '66208637', '32126305', '38938047', '30344189', '67520397', '38304862', '30447153', '62969645', '77431257', '66052055', '65238951', '71935980', '34911789', '65723468', '75553849', '75408990', '37384054', '78505633', '30784559', '29162935', '74013970', '29811114', '77917537', '74604810', '76736351', '70745388', '77656862', '30561951', '69304464', '77590949', '36079085', '75293405', '32879161', '67377743', '74344358', '35803436', '69543177', '77590615', '32324080', '35159962', '75467841', '32781497', '66624229', '64323044', '74976435', '31655947', '68009742', '64936082', '68732632', '69992346', '28679031', '30081171', '65689835', '37112067', '36826650', '68867244', '71580132', '31559908', '35036052', '39136657', '34577280', '68211231', '32652988', '70527777', '31772530', '73912820', '62852759', '78478585', '68204200', '35118072', '36216103', '68965017', '77860059', '33870031', '77363863', '38728581', '38565791', '66054398', '78112625', '76250163', '36819819', '28606941', '75977013', '74252057', '76325628', '70148597', '77854408', '35432761', '77814573'}\n"
          ]
        },
        {
          "name": "stderr",
          "output_type": "stream",
          "text": [
            "100%|██████████| 25/25 [02:59<00:00,  7.19s/it]\n"
          ]
        }
      ],
      "source": [
        "ids = []\n",
        "first = True\n",
        "assert len(strata) > 0\n",
        "for nc in tqdm.tqdm(dct_note_content):\n",
        "    tmp_df = df[df['note_content'] == nc]\n",
        "    count_df = tmp_df.groupby(strata).size().reset_index(name='count')\n",
        "    sum_count = sum(list(count_df['count']))\n",
        "    count_df['take'] = count_df['count'].apply(lambda x : min(x, math.ceil(dct_note_content[nc] / sum_count * x)))\n",
        "    ids_note_content = []\n",
        "    for i in range(len(count_df)):\n",
        "        search_df = tmp_df\n",
        "        for fea in strata:\n",
        "            search_df = search_df[search_df[fea] == count_df.loc[i][fea]]\n",
        "        number_take = count_df.loc[i]['take']\n",
        "        ids_satisfied = list(search_df['id'])\n",
        "        intersect = set(ids_satisfied).intersection(prio_ids)\n",
        "        if first:\n",
        "            print(intersect)\n",
        "            first = False\n",
        "\n",
        "        if len(intersect) >= number_take:\n",
        "            ids_note_content.extend(random.sample(list(intersect), number_take))\n",
        "        else:\n",
        "            ids_note_content.extend(list(intersect))\n",
        "            diff = set(ids_satisfied) - intersect\n",
        "            ids_note_content.extend(random.sample(list(diff), number_take - len(intersect)))\n",
        "\n",
        "        # ids_note_content.extend(random.sample(list(search_df['id']), number_take))\n",
        "    ids.extend(random.sample(ids_note_content, dct_note_content[nc]))"
      ]
    },
    {
      "cell_type": "code",
      "execution_count": null,
      "metadata": {
        "id": "8VygSiOrPwO8"
      },
      "outputs": [],
      "source": [
        "new_df = df.apply(lambda row: row[df['id'].isin(ids)])"
      ]
    },
    {
      "cell_type": "code",
      "execution_count": null,
      "metadata": {
        "colab": {
          "base_uri": "https://localhost:8080/",
          "height": 423
        },
        "id": "B2_IS0XfQAF-",
        "outputId": "b49150ec-f70a-402e-88bb-d3f7f4b63f70"
      },
      "outputs": [
        {
          "data": {
            "text/html": [
              "\n",
              "  <div id=\"df-907d82ba-00f0-4bc7-be2e-a09f0c336c52\">\n",
              "    <div class=\"colab-df-container\">\n",
              "      <div>\n",
              "<style scoped>\n",
              "    .dataframe tbody tr th:only-of-type {\n",
              "        vertical-align: middle;\n",
              "    }\n",
              "\n",
              "    .dataframe tbody tr th {\n",
              "        vertical-align: top;\n",
              "    }\n",
              "\n",
              "    .dataframe thead th {\n",
              "        text-align: right;\n",
              "    }\n",
              "</style>\n",
              "<table border=\"1\" class=\"dataframe\">\n",
              "  <thead>\n",
              "    <tr style=\"text-align: right;\">\n",
              "      <th></th>\n",
              "      <th>id</th>\n",
              "      <th>tell_call</th>\n",
              "      <th>total_time_remain</th>\n",
              "      <th>state</th>\n",
              "      <th>note_content</th>\n",
              "      <th>total_time_remain_label</th>\n",
              "    </tr>\n",
              "  </thead>\n",
              "  <tbody>\n",
              "    <tr>\n",
              "      <th>2910</th>\n",
              "      <td>56293948</td>\n",
              "      <td>vinaphone</td>\n",
              "      <td>29</td>\n",
              "      <td>50</td>\n",
              "      <td>NORMAL_UNSPECIFIED</td>\n",
              "      <td>7</td>\n",
              "    </tr>\n",
              "    <tr>\n",
              "      <th>2949</th>\n",
              "      <td>56293987</td>\n",
              "      <td>viettel</td>\n",
              "      <td>51</td>\n",
              "      <td>50</td>\n",
              "      <td>RECOVERY_ON_TIMER_EXPIRE</td>\n",
              "      <td>5</td>\n",
              "    </tr>\n",
              "    <tr>\n",
              "      <th>3451</th>\n",
              "      <td>56294489</td>\n",
              "      <td>viettel</td>\n",
              "      <td>37</td>\n",
              "      <td>50</td>\n",
              "      <td>CALL_REJECTED</td>\n",
              "      <td>3</td>\n",
              "    </tr>\n",
              "    <tr>\n",
              "      <th>3865</th>\n",
              "      <td>56294903</td>\n",
              "      <td>viettel</td>\n",
              "      <td>41</td>\n",
              "      <td>50</td>\n",
              "      <td>VOICEMAIL_DETECTION</td>\n",
              "      <td>3</td>\n",
              "    </tr>\n",
              "    <tr>\n",
              "      <th>4816</th>\n",
              "      <td>56295854</td>\n",
              "      <td>viettel</td>\n",
              "      <td>38</td>\n",
              "      <td>50</td>\n",
              "      <td>CALL_REJECTED</td>\n",
              "      <td>3</td>\n",
              "    </tr>\n",
              "    <tr>\n",
              "      <th>...</th>\n",
              "      <td>...</td>\n",
              "      <td>...</td>\n",
              "      <td>...</td>\n",
              "      <td>...</td>\n",
              "      <td>...</td>\n",
              "      <td>...</td>\n",
              "    </tr>\n",
              "    <tr>\n",
              "      <th>15024643</th>\n",
              "      <td>78868400</td>\n",
              "      <td>viettel</td>\n",
              "      <td>46</td>\n",
              "      <td>50</td>\n",
              "      <td>NO_USER_RESPONSE</td>\n",
              "      <td>5</td>\n",
              "    </tr>\n",
              "    <tr>\n",
              "      <th>15024665</th>\n",
              "      <td>78868422</td>\n",
              "      <td>mobiphone</td>\n",
              "      <td>61</td>\n",
              "      <td>40</td>\n",
              "      <td>NORMAL_CLEARING</td>\n",
              "      <td>0</td>\n",
              "    </tr>\n",
              "    <tr>\n",
              "      <th>15024730</th>\n",
              "      <td>78868487</td>\n",
              "      <td>viettel</td>\n",
              "      <td>59</td>\n",
              "      <td>50</td>\n",
              "      <td>NO_ANSWER</td>\n",
              "      <td>0</td>\n",
              "    </tr>\n",
              "    <tr>\n",
              "      <th>15024745</th>\n",
              "      <td>78868502</td>\n",
              "      <td>vinaphone</td>\n",
              "      <td>55</td>\n",
              "      <td>50</td>\n",
              "      <td>NO_USER_RESPONSE</td>\n",
              "      <td>0</td>\n",
              "    </tr>\n",
              "    <tr>\n",
              "      <th>15024767</th>\n",
              "      <td>78868524</td>\n",
              "      <td>viettel</td>\n",
              "      <td>59</td>\n",
              "      <td>50</td>\n",
              "      <td>NO_ANSWER</td>\n",
              "      <td>0</td>\n",
              "    </tr>\n",
              "  </tbody>\n",
              "</table>\n",
              "<p>540358 rows × 6 columns</p>\n",
              "</div>\n",
              "      <button class=\"colab-df-convert\" onclick=\"convertToInteractive('df-907d82ba-00f0-4bc7-be2e-a09f0c336c52')\"\n",
              "              title=\"Convert this dataframe to an interactive table.\"\n",
              "              style=\"display:none;\">\n",
              "        \n",
              "  <svg xmlns=\"http://www.w3.org/2000/svg\" height=\"24px\"viewBox=\"0 0 24 24\"\n",
              "       width=\"24px\">\n",
              "    <path d=\"M0 0h24v24H0V0z\" fill=\"none\"/>\n",
              "    <path d=\"M18.56 5.44l.94 2.06.94-2.06 2.06-.94-2.06-.94-.94-2.06-.94 2.06-2.06.94zm-11 1L8.5 8.5l.94-2.06 2.06-.94-2.06-.94L8.5 2.5l-.94 2.06-2.06.94zm10 10l.94 2.06.94-2.06 2.06-.94-2.06-.94-.94-2.06-.94 2.06-2.06.94z\"/><path d=\"M17.41 7.96l-1.37-1.37c-.4-.4-.92-.59-1.43-.59-.52 0-1.04.2-1.43.59L10.3 9.45l-7.72 7.72c-.78.78-.78 2.05 0 2.83L4 21.41c.39.39.9.59 1.41.59.51 0 1.02-.2 1.41-.59l7.78-7.78 2.81-2.81c.8-.78.8-2.07 0-2.86zM5.41 20L4 18.59l7.72-7.72 1.47 1.35L5.41 20z\"/>\n",
              "  </svg>\n",
              "      </button>\n",
              "      \n",
              "  <style>\n",
              "    .colab-df-container {\n",
              "      display:flex;\n",
              "      flex-wrap:wrap;\n",
              "      gap: 12px;\n",
              "    }\n",
              "\n",
              "    .colab-df-convert {\n",
              "      background-color: #E8F0FE;\n",
              "      border: none;\n",
              "      border-radius: 50%;\n",
              "      cursor: pointer;\n",
              "      display: none;\n",
              "      fill: #1967D2;\n",
              "      height: 32px;\n",
              "      padding: 0 0 0 0;\n",
              "      width: 32px;\n",
              "    }\n",
              "\n",
              "    .colab-df-convert:hover {\n",
              "      background-color: #E2EBFA;\n",
              "      box-shadow: 0px 1px 2px rgba(60, 64, 67, 0.3), 0px 1px 3px 1px rgba(60, 64, 67, 0.15);\n",
              "      fill: #174EA6;\n",
              "    }\n",
              "\n",
              "    [theme=dark] .colab-df-convert {\n",
              "      background-color: #3B4455;\n",
              "      fill: #D2E3FC;\n",
              "    }\n",
              "\n",
              "    [theme=dark] .colab-df-convert:hover {\n",
              "      background-color: #434B5C;\n",
              "      box-shadow: 0px 1px 3px 1px rgba(0, 0, 0, 0.15);\n",
              "      filter: drop-shadow(0px 1px 2px rgba(0, 0, 0, 0.3));\n",
              "      fill: #FFFFFF;\n",
              "    }\n",
              "  </style>\n",
              "\n",
              "      <script>\n",
              "        const buttonEl =\n",
              "          document.querySelector('#df-907d82ba-00f0-4bc7-be2e-a09f0c336c52 button.colab-df-convert');\n",
              "        buttonEl.style.display =\n",
              "          google.colab.kernel.accessAllowed ? 'block' : 'none';\n",
              "\n",
              "        async function convertToInteractive(key) {\n",
              "          const element = document.querySelector('#df-907d82ba-00f0-4bc7-be2e-a09f0c336c52');\n",
              "          const dataTable =\n",
              "            await google.colab.kernel.invokeFunction('convertToInteractive',\n",
              "                                                     [key], {});\n",
              "          if (!dataTable) return;\n",
              "\n",
              "          const docLinkHtml = 'Like what you see? Visit the ' +\n",
              "            '<a target=\"_blank\" href=https://colab.research.google.com/notebooks/data_table.ipynb>data table notebook</a>'\n",
              "            + ' to learn more about interactive tables.';\n",
              "          element.innerHTML = '';\n",
              "          dataTable['output_type'] = 'display_data';\n",
              "          await google.colab.output.renderOutput(dataTable, element);\n",
              "          const docLink = document.createElement('div');\n",
              "          docLink.innerHTML = docLinkHtml;\n",
              "          element.appendChild(docLink);\n",
              "        }\n",
              "      </script>\n",
              "    </div>\n",
              "  </div>\n",
              "  "
            ],
            "text/plain": [
              "                id  tell_call  total_time_remain  state  \\\n",
              "2910      56293948  vinaphone                 29     50   \n",
              "2949      56293987    viettel                 51     50   \n",
              "3451      56294489    viettel                 37     50   \n",
              "3865      56294903    viettel                 41     50   \n",
              "4816      56295854    viettel                 38     50   \n",
              "...            ...        ...                ...    ...   \n",
              "15024643  78868400    viettel                 46     50   \n",
              "15024665  78868422  mobiphone                 61     40   \n",
              "15024730  78868487    viettel                 59     50   \n",
              "15024745  78868502  vinaphone                 55     50   \n",
              "15024767  78868524    viettel                 59     50   \n",
              "\n",
              "                      note_content  total_time_remain_label  \n",
              "2910            NORMAL_UNSPECIFIED                        7  \n",
              "2949      RECOVERY_ON_TIMER_EXPIRE                        5  \n",
              "3451                 CALL_REJECTED                        3  \n",
              "3865           VOICEMAIL_DETECTION                        3  \n",
              "4816                 CALL_REJECTED                        3  \n",
              "...                            ...                      ...  \n",
              "15024643          NO_USER_RESPONSE                        5  \n",
              "15024665           NORMAL_CLEARING                        0  \n",
              "15024730                 NO_ANSWER                        0  \n",
              "15024745          NO_USER_RESPONSE                        0  \n",
              "15024767                 NO_ANSWER                        0  \n",
              "\n",
              "[540358 rows x 6 columns]"
            ]
          },
          "execution_count": 81,
          "metadata": {},
          "output_type": "execute_result"
        }
      ],
      "source": [
        "new_df"
      ]
    },
    {
      "cell_type": "code",
      "execution_count": null,
      "metadata": {
        "colab": {
          "base_uri": "https://localhost:8080/"
        },
        "id": "NwnHv_K3039T",
        "outputId": "2701185e-cb7d-4598-eb5a-8a51de336851"
      },
      "outputs": [
        {
          "data": {
            "text/plain": [
              "0    102392\n",
              "4     88048\n",
              "7     86273\n",
              "3     79040\n",
              "5     75220\n",
              "1     70966\n",
              "2     20415\n",
              "8     15366\n",
              "6      2638\n",
              "Name: total_time_remain_label, dtype: int64"
            ]
          },
          "execution_count": 82,
          "metadata": {},
          "output_type": "execute_result"
        }
      ],
      "source": [
        "new_df['total_time_remain_label'].value_counts()"
      ]
    },
    {
      "cell_type": "code",
      "execution_count": null,
      "metadata": {
        "colab": {
          "base_uri": "https://localhost:8080/"
        },
        "id": "4NyCNM2qQHaU",
        "outputId": "0924ca3b-2a2a-48c0-b5eb-7146bfd3d995"
      },
      "outputs": [
        {
          "name": "stdout",
          "output_type": "stream",
          "text": [
            "NORMAL_CLEARING 71384 71384\n",
            "VOICEMAIL_DETECTION 64704 64704\n",
            "NO_USER_RESPONSE 64263 64263\n",
            "RECOVERY_ON_TIMER_EXPIRE 55302 55302\n",
            "USER_BUSY 47717 47717\n",
            "NORMAL_TEMPORARY_FAILURE 41034 41034\n",
            "NO_ANSWER 36534 36534\n",
            "NORMAL_UNSPECIFIED 33430 33430\n",
            "CALL_REJECTED 32749 32749\n",
            "UNALLOCATED_NUMBER 28554 28554\n",
            "INCOMPATIBLE_DESTINATION 28554 28554\n",
            "NORMAL_CIRCUIT_CONGESTION 7724 7724\n",
            "NETWORK_OUT_OF_ORDER 7591 7591\n",
            "ORIGINATOR_CANCEL 3788 3788\n",
            "DESTINATION_OUT_OF_ORDER 3513 3513\n",
            "SERVICE_UNAVAILABLE 2297 2297\n",
            "UNKNOWN 2174 2174\n",
            "INVALID_NUMBER_FORMAT 1660 1660\n",
            "NUMBER_CHANGED 1653 1653\n",
            "SWITCH_CONGESTION 1492 1492\n",
            "REDIRECTION_TO_NEW_DESTINATION 1491 1491\n",
            "SUBSCRIBER_ABSENT 1070 1070\n",
            "PROTOCOL_ERROR 592 592\n",
            "FACILITY_NOT_SUBSCRIBED 551 551\n",
            "NO_ROUTE_DESTINATION 537 537\n"
          ]
        }
      ],
      "source": [
        "dct = dict(new_df.note_content.value_counts())\n",
        "for key in dct:\n",
        "    print(key, dct[key], dct_note_content[key])"
      ]
    },
    {
      "cell_type": "code",
      "execution_count": null,
      "metadata": {},
      "outputs": [],
      "source": [
        "save_file = '/home2/ivr-mappingcode/data/19122022_stratified_data.csv'"
      ]
    },
    {
      "cell_type": "code",
      "execution_count": null,
      "metadata": {
        "id": "6Y2ffs-QW-OM"
      },
      "outputs": [],
      "source": [
        "new_df.to_csv(save_file, index=False)"
      ]
    },
    {
      "cell_type": "code",
      "execution_count": null,
      "metadata": {
        "id": "Qlku-wQKOcEz"
      },
      "outputs": [],
      "source": [
        "# search_df = tmp_df[tmp_df[strata[0]] == count_df.loc[i][strata[0]]]\n",
        "        # if len(strata) > 0:\n",
        "        #     for fea in strata[1:]:\n",
        "        #         search_df = search_df[search_df[fea] == count_df.loc[i][fea]]"
      ]
    }
  ],
  "metadata": {
    "colab": {
      "provenance": []
    },
    "kernelspec": {
      "display_name": "Python 3",
      "language": "python",
      "name": "python3"
    },
    "language_info": {
      "name": "python",
      "version": "3.6.9 (default, Jun 29 2022, 11:45:57) \n[GCC 8.4.0]"
    },
    "vscode": {
      "interpreter": {
        "hash": "31f2aee4e71d21fbe5cf8b01ff0e069b9275f58929596ceb00d14d90e3e16cd6"
      }
    }
  },
  "nbformat": 4,
  "nbformat_minor": 0
}
